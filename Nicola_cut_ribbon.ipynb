{
 "cells": [
  {
   "cell_type": "code",
   "execution_count": 11,
   "id": "66765cc5-573e-4986-b600-a0c73b5b684a",
   "metadata": {},
   "outputs": [],
   "source": [
    "import numpy as np\n",
    "import matplotlib.pyplot as plt\n",
    "import time"
   ]
  },
  {
   "cell_type": "markdown",
   "id": "14512668-6e85-4834-a031-69e438eaec2d",
   "metadata": {},
   "source": [
    "# AQ2 #"
   ]
  },
  {
   "cell_type": "markdown",
   "id": "70fd73d7-061d-44ce-a971-174ab6c25e40",
   "metadata": {},
   "source": [
    "## 1. Implement a recursive algorithm to help Alex find the maximum possible value after multiplying the length of the pieces. Explain your algorithm in detail. ## "
   ]
  },
  {
   "cell_type": "code",
   "execution_count": 12,
   "id": "270f6024-919a-4dd5-a267-c4801a0ab555",
   "metadata": {},
   "outputs": [],
   "source": [
    "# recursive algorithm\n",
    "def cut_one(n):\n",
    "    # base cases,\n",
    "    if n <=1 :\n",
    "        return 0\n",
    "    # setting the max value to 0, cutting \n",
    "    # and update it with the new maximum value\n",
    "    mval = 0\n",
    "    for i in range(1,n):\n",
    "        mval = max(mval, i*(n-i), cut_one(n-i)*i)\n",
    "    return mval"
   ]
  },
  {
   "cell_type": "markdown",
   "id": "c9ee42e9-f708-432c-a655-d48e8c7d67ae",
   "metadata": {},
   "source": [
    "We respected the three rules because every piece of the cut always has an integer length; with the base cases we also checked that that there is at least one cut; we used every time the function max to take the maximum possible. \n",
    "\n",
    "Algorithm behaviour:\n",
    "We assumed that n is a length and for this reason it is a number at least equal to zero. Every time the length of the ribbon becomes 0 or 1 we return the 0 value which will have passed inside the function max to do che checking with other values. We need to initialize a variable called mval that will contain for every iteration the new maximum value. Mixing the for loop and the recursion we are able to compute all the combinations of the pieces and to store, as last one number, the maximum value possibile, based on the multiplication of the length of all pieces."
   ]
  },
  {
   "cell_type": "markdown",
   "id": "6a55facc-8635-41c1-a5f1-ed76ca084fa9",
   "metadata": {},
   "source": [
    "## 2. Show that the algorithm has exponential running time. ##"
   ]
  },
  {
   "cell_type": "code",
   "execution_count": null,
   "id": "564ba726-0519-4b1d-a6f5-43c8d8a304c4",
   "metadata": {},
   "outputs": [],
   "source": [
    "???????"
   ]
  },
  {
   "cell_type": "markdown",
   "id": "673abb9b-53c1-435a-ae83-2294ebb9980d",
   "metadata": {},
   "source": [
    "## 3. Now provide a polynomial solution, based on dynamic programming, and compute its running-time complexity. ##"
   ]
  },
  {
   "cell_type": "code",
   "execution_count": 13,
   "id": "b064d2f7-7cb1-47d0-b72b-5c3023025e25",
   "metadata": {},
   "outputs": [],
   "source": [
    "# Polynomial solution based on dinamic programming\n",
    "def cut_two(n):\n",
    "    arr= [0 for i in range(n+1)]\n",
    "\n",
    "# the last value of the array that we are building will be our solution\n",
    "# the maximum product of the length of the cuts\n",
    "    for i in range(1,n+1):\n",
    "        mval = 0;\n",
    "        for j in range(1,i):\n",
    "                mval = max(mval, (i-j)*j, j*arr[i-j])\n",
    "        arr[i] = mval\n",
    "    return arr[n]\n"
   ]
  },
  {
   "cell_type": "code",
   "execution_count": null,
   "id": "d8c04886-01d5-4f3f-8655-fbad8baec235",
   "metadata": {},
   "outputs": [],
   "source": [
    "??????????"
   ]
  },
  {
   "cell_type": "markdown",
   "id": "38bc3dbd-4ffe-49fc-923c-8deb56b8959b",
   "metadata": {},
   "source": [
    "## 4. Evaluate the running time of your algorithm for the sizes (Ns) in the range of [2, 25], plot the results, and interpret it (if you have implemented two algorithms, please include both in the plot and compare them). ##"
   ]
  },
  {
   "cell_type": "code",
   "execution_count": 4,
   "id": "0cec1597-e385-4820-8efe-9546b52a8e46",
   "metadata": {},
   "outputs": [],
   "source": [
    "time1 = []\n",
    "time2 = []\n"
   ]
  },
  {
   "cell_type": "code",
   "execution_count": 5,
   "id": "66ae67d9-b7fb-4e99-b14b-55a141c9c11e",
   "metadata": {},
   "outputs": [],
   "source": [
    "for i in range(2,26):\n",
    "    time_start = time.time()\n",
    "    cut_one(i)\n",
    "    time_end = time.time()\n",
    "    time1.append(time_end -  time_start)\n",
    "    \n",
    "    time_start = time.time()\n",
    "    cut_two(i)\n",
    "    time_end = time.time()\n",
    "    time2.append(time_end - time_start)"
   ]
  },
  {
   "cell_type": "code",
   "execution_count": 8,
   "id": "1eaa2c27-9d5c-4c49-8e26-559c884153c3",
   "metadata": {},
   "outputs": [
    {
     "data": {
      "text/plain": [
       "[<matplotlib.lines.Line2D at 0x1d760f76290>]"
      ]
     },
     "execution_count": 8,
     "metadata": {},
     "output_type": "execute_result"
    },
    {
     "data": {
      "image/png": "[encoded data removed]",
      "text/plain": [
       "<Figure size 640x480 with 1 Axes>"
      ]
     },
     "metadata": {},
     "output_type": "display_data"
    }
   ],
   "source": [
    "plt.plot(np.arange(2,26), time1)\n",
    "plt.plot(np.arange(2,26), time2, color = 'red')"
   ]
  },
  {
   "cell_type": "markdown",
   "id": "d9ce646b-9ad2-44af-b189-7d28205040a1",
   "metadata": {},
   "source": [
    "As can be seen, the first algorithm has an higher running time than the second for bigger values of n and his exponential trend seems to be confirmed. On the other hand, the second solution has a polynomial complexity, but in the range [2,25] of n, for my pc the running time is always 0.0.  "
   ]
  },
  {
   "cell_type": "markdown",
   "id": "6683f425-61e7-450f-93e9-439ffb529f3f",
   "metadata": {},
   "source": [
    "## 5. (Optional, mini bonus) Is the algorithm of question 3 optimal? If you belive it, can you prove it? If not, can you find a faster algorithm? In case you found a faster algorithm implement it and explain your algorithm in detail. ##"
   ]
  },
  {
   "cell_type": "code",
   "execution_count": 14,
   "id": "caf229f6-533a-4d89-8541-0d402f5e882f",
   "metadata": {},
   "outputs": [],
   "source": [
    "def cut_three(n):\n",
    "    if n <= 1:\n",
    "        return 0\n",
    "    elif n == 2:\n",
    "        return 1\n",
    "    elif n == 3:\n",
    "        return 2\n",
    "    prod = 1\n",
    "    while n > 4:\n",
    "        n = n - 3\n",
    "        prod = prod * 3\n",
    "    prod = prod * n\n",
    "    return prod\n"
   ]
  },
  {
   "cell_type": "code",
   "execution_count": 16,
   "id": "a3ee891e-21ac-402c-a130-92536230b7f2",
   "metadata": {},
   "outputs": [
    {
     "data": {
      "text/plain": [
       "4"
      ]
     },
     "execution_count": 16,
     "metadata": {},
     "output_type": "execute_result"
    }
   ],
   "source": [
    "cut_three(4)"
   ]
  },
  {
   "cell_type": "code",
   "execution_count": 17,
   "id": "0292e6ad-1827-4450-a7a9-b6a339b20460",
   "metadata": {},
   "outputs": [
    {
     "data": {
      "text/plain": [
       "4"
      ]
     },
     "execution_count": 17,
     "metadata": {},
     "output_type": "execute_result"
    }
   ],
   "source": [
    "cut_two(4)"
   ]
  },
  {
   "cell_type": "markdown",
   "id": "692509e2-9b66-48a9-a074-63b33c05bb50",
   "metadata": {},
   "source": [
    "There is a pattern that can be recognised,the maximum product among the length of the cuts, is calculated repeatedly cutting parts of length 3 while length is greater than 4. The size 0 and 1 are managed by the first if, the size 2 by the second and the size 3 by the third. Moreover, the size 4 is managed with only the use of prod = prod*n(where n is equal to 4 and prod is equal to 1)."
   ]
  }
 ],
 "metadata": {
  "kernelspec": {
   "display_name": "Python 3 (ipykernel)",
   "language": "python",
   "name": "python3"
  },
  "language_info": {
   "codemirror_mode": {
    "name": "ipython",
    "version": 3
   },
   "file_extension": ".py",
   "mimetype": "text/x-python",
   "name": "python",
   "nbconvert_exporter": "python",
   "pygments_lexer": "ipython3",
   "version": "3.10.7"
  }
 },
 "nbformat": 4,
 "nbformat_minor": 5
}
