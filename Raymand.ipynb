{
 "cells": [
  {
   "cell_type": "markdown",
   "id": "b92760d0",
   "metadata": {},
   "source": [
    "# RQ1"
   ]
  },
  {
   "cell_type": "markdown",
   "id": "cdf2f6f2",
   "metadata": {},
   "source": [
    " First We should import and load our datasets."
   ]
  },
  {
   "cell_type": "code",
   "execution_count": 1,
   "id": "5b9a5966",
   "metadata": {},
   "outputs": [
    {
     "ename": "KeyboardInterrupt",
     "evalue": "",
     "output_type": "error",
     "traceback": [
      "\u001b[1;31m---------------------------------------------------------------------------\u001b[0m",
      "\u001b[1;31mKeyboardInterrupt\u001b[0m                         Traceback (most recent call last)",
      "Cell \u001b[1;32mIn [1], line 1\u001b[0m\n\u001b[1;32m----> 1\u001b[0m \u001b[38;5;28;01mimport\u001b[39;00m \u001b[38;5;21;01mpandas\u001b[39;00m \u001b[38;5;28;01mas\u001b[39;00m \u001b[38;5;21;01mpd\u001b[39;00m\n",
      "File \u001b[1;32m~\\AppData\\Local\\Programs\\Python\\Python310\\lib\\site-packages\\pandas\\__init__.py:48\u001b[0m\n\u001b[0;32m     45\u001b[0m \u001b[38;5;66;03m# let init-time option registration happen\u001b[39;00m\n\u001b[0;32m     46\u001b[0m \u001b[38;5;28;01mimport\u001b[39;00m \u001b[38;5;21;01mpandas\u001b[39;00m\u001b[38;5;21;01m.\u001b[39;00m\u001b[38;5;21;01mcore\u001b[39;00m\u001b[38;5;21;01m.\u001b[39;00m\u001b[38;5;21;01mconfig_init\u001b[39;00m  \u001b[38;5;66;03m# pyright: ignore # noqa:F401\u001b[39;00m\n\u001b[1;32m---> 48\u001b[0m \u001b[38;5;28;01mfrom\u001b[39;00m \u001b[38;5;21;01mpandas\u001b[39;00m\u001b[38;5;21;01m.\u001b[39;00m\u001b[38;5;21;01mcore\u001b[39;00m\u001b[38;5;21;01m.\u001b[39;00m\u001b[38;5;21;01mapi\u001b[39;00m \u001b[38;5;28;01mimport\u001b[39;00m (\n\u001b[0;32m     49\u001b[0m     \u001b[38;5;66;03m# dtype\u001b[39;00m\n\u001b[0;32m     50\u001b[0m     ArrowDtype,\n\u001b[0;32m     51\u001b[0m     Int8Dtype,\n\u001b[0;32m     52\u001b[0m     Int16Dtype,\n\u001b[0;32m     53\u001b[0m     Int32Dtype,\n\u001b[0;32m     54\u001b[0m     Int64Dtype,\n\u001b[0;32m     55\u001b[0m     UInt8Dtype,\n\u001b[0;32m     56\u001b[0m     UInt16Dtype,\n\u001b[0;32m     57\u001b[0m     UInt32Dtype,\n\u001b[0;32m     58\u001b[0m     UInt64Dtype,\n\u001b[0;32m     59\u001b[0m     Float32Dtype,\n\u001b[0;32m     60\u001b[0m     Float64Dtype,\n\u001b[0;32m     61\u001b[0m     CategoricalDtype,\n\u001b[0;32m     62\u001b[0m     PeriodDtype,\n\u001b[0;32m     63\u001b[0m     IntervalDtype,\n\u001b[0;32m     64\u001b[0m     DatetimeTZDtype,\n\u001b[0;32m     65\u001b[0m     StringDtype,\n\u001b[0;32m     66\u001b[0m     BooleanDtype,\n\u001b[0;32m     67\u001b[0m     \u001b[38;5;66;03m# missing\u001b[39;00m\n\u001b[0;32m     68\u001b[0m     NA,\n\u001b[0;32m     69\u001b[0m     isna,\n\u001b[0;32m     70\u001b[0m     isnull,\n\u001b[0;32m     71\u001b[0m     notna,\n\u001b[0;32m     72\u001b[0m     notnull,\n\u001b[0;32m     73\u001b[0m     \u001b[38;5;66;03m# indexes\u001b[39;00m\n\u001b[0;32m     74\u001b[0m     Index,\n\u001b[0;32m     75\u001b[0m     CategoricalIndex,\n\u001b[0;32m     76\u001b[0m     RangeIndex,\n\u001b[0;32m     77\u001b[0m     MultiIndex,\n\u001b[0;32m     78\u001b[0m     IntervalIndex,\n\u001b[0;32m     79\u001b[0m     TimedeltaIndex,\n\u001b[0;32m     80\u001b[0m     DatetimeIndex,\n\u001b[0;32m     81\u001b[0m     PeriodIndex,\n\u001b[0;32m     82\u001b[0m     IndexSlice,\n\u001b[0;32m     83\u001b[0m     \u001b[38;5;66;03m# tseries\u001b[39;00m\n\u001b[0;32m     84\u001b[0m     NaT,\n\u001b[0;32m     85\u001b[0m     Period,\n\u001b[0;32m     86\u001b[0m     period_range,\n\u001b[0;32m     87\u001b[0m     Timedelta,\n\u001b[0;32m     88\u001b[0m     timedelta_range,\n\u001b[0;32m     89\u001b[0m     Timestamp,\n\u001b[0;32m     90\u001b[0m     date_range,\n\u001b[0;32m     91\u001b[0m     bdate_range,\n\u001b[0;32m     92\u001b[0m     Interval,\n\u001b[0;32m     93\u001b[0m     interval_range,\n\u001b[0;32m     94\u001b[0m     DateOffset,\n\u001b[0;32m     95\u001b[0m     \u001b[38;5;66;03m# conversion\u001b[39;00m\n\u001b[0;32m     96\u001b[0m     to_numeric,\n\u001b[0;32m     97\u001b[0m     to_datetime,\n\u001b[0;32m     98\u001b[0m     to_timedelta,\n\u001b[0;32m     99\u001b[0m     \u001b[38;5;66;03m# misc\u001b[39;00m\n\u001b[0;32m    100\u001b[0m     Flags,\n\u001b[0;32m    101\u001b[0m     Grouper,\n\u001b[0;32m    102\u001b[0m     factorize,\n\u001b[0;32m    103\u001b[0m     unique,\n\u001b[0;32m    104\u001b[0m     value_counts,\n\u001b[0;32m    105\u001b[0m     NamedAgg,\n\u001b[0;32m    106\u001b[0m     array,\n\u001b[0;32m    107\u001b[0m     Categorical,\n\u001b[0;32m    108\u001b[0m     set_eng_float_format,\n\u001b[0;32m    109\u001b[0m     Series,\n\u001b[0;32m    110\u001b[0m     DataFrame,\n\u001b[0;32m    111\u001b[0m )\n\u001b[0;32m    113\u001b[0m \u001b[38;5;28;01mfrom\u001b[39;00m \u001b[38;5;21;01mpandas\u001b[39;00m\u001b[38;5;21;01m.\u001b[39;00m\u001b[38;5;21;01mcore\u001b[39;00m\u001b[38;5;21;01m.\u001b[39;00m\u001b[38;5;21;01marrays\u001b[39;00m\u001b[38;5;21;01m.\u001b[39;00m\u001b[38;5;21;01msparse\u001b[39;00m \u001b[38;5;28;01mimport\u001b[39;00m SparseDtype\n\u001b[0;32m    115\u001b[0m \u001b[38;5;28;01mfrom\u001b[39;00m \u001b[38;5;21;01mpandas\u001b[39;00m\u001b[38;5;21;01m.\u001b[39;00m\u001b[38;5;21;01mtseries\u001b[39;00m\u001b[38;5;21;01m.\u001b[39;00m\u001b[38;5;21;01mapi\u001b[39;00m \u001b[38;5;28;01mimport\u001b[39;00m infer_freq\n",
      "File \u001b[1;32m~\\AppData\\Local\\Programs\\Python\\Python310\\lib\\site-packages\\pandas\\core\\api.py:47\u001b[0m\n\u001b[0;32m     45\u001b[0m \u001b[38;5;28;01mfrom\u001b[39;00m \u001b[38;5;21;01mpandas\u001b[39;00m\u001b[38;5;21;01m.\u001b[39;00m\u001b[38;5;21;01mcore\u001b[39;00m\u001b[38;5;21;01m.\u001b[39;00m\u001b[38;5;21;01mconstruction\u001b[39;00m \u001b[38;5;28;01mimport\u001b[39;00m array\n\u001b[0;32m     46\u001b[0m \u001b[38;5;28;01mfrom\u001b[39;00m \u001b[38;5;21;01mpandas\u001b[39;00m\u001b[38;5;21;01m.\u001b[39;00m\u001b[38;5;21;01mcore\u001b[39;00m\u001b[38;5;21;01m.\u001b[39;00m\u001b[38;5;21;01mflags\u001b[39;00m \u001b[38;5;28;01mimport\u001b[39;00m Flags\n\u001b[1;32m---> 47\u001b[0m \u001b[38;5;28;01mfrom\u001b[39;00m \u001b[38;5;21;01mpandas\u001b[39;00m\u001b[38;5;21;01m.\u001b[39;00m\u001b[38;5;21;01mcore\u001b[39;00m\u001b[38;5;21;01m.\u001b[39;00m\u001b[38;5;21;01mgroupby\u001b[39;00m \u001b[38;5;28;01mimport\u001b[39;00m (\n\u001b[0;32m     48\u001b[0m     Grouper,\n\u001b[0;32m     49\u001b[0m     NamedAgg,\n\u001b[0;32m     50\u001b[0m )\n\u001b[0;32m     51\u001b[0m \u001b[38;5;28;01mfrom\u001b[39;00m \u001b[38;5;21;01mpandas\u001b[39;00m\u001b[38;5;21;01m.\u001b[39;00m\u001b[38;5;21;01mcore\u001b[39;00m\u001b[38;5;21;01m.\u001b[39;00m\u001b[38;5;21;01mindexes\u001b[39;00m\u001b[38;5;21;01m.\u001b[39;00m\u001b[38;5;21;01mapi\u001b[39;00m \u001b[38;5;28;01mimport\u001b[39;00m (\n\u001b[0;32m     52\u001b[0m     CategoricalIndex,\n\u001b[0;32m     53\u001b[0m     DatetimeIndex,\n\u001b[1;32m   (...)\u001b[0m\n\u001b[0;32m     63\u001b[0m     UInt64Index,\n\u001b[0;32m     64\u001b[0m )\n\u001b[0;32m     65\u001b[0m \u001b[38;5;28;01mfrom\u001b[39;00m \u001b[38;5;21;01mpandas\u001b[39;00m\u001b[38;5;21;01m.\u001b[39;00m\u001b[38;5;21;01mcore\u001b[39;00m\u001b[38;5;21;01m.\u001b[39;00m\u001b[38;5;21;01mindexes\u001b[39;00m\u001b[38;5;21;01m.\u001b[39;00m\u001b[38;5;21;01mdatetimes\u001b[39;00m \u001b[38;5;28;01mimport\u001b[39;00m (\n\u001b[0;32m     66\u001b[0m     bdate_range,\n\u001b[0;32m     67\u001b[0m     date_range,\n\u001b[0;32m     68\u001b[0m )\n",
      "File \u001b[1;32m~\\AppData\\Local\\Programs\\Python\\Python310\\lib\\site-packages\\pandas\\core\\groupby\\__init__.py:1\u001b[0m\n\u001b[1;32m----> 1\u001b[0m \u001b[38;5;28;01mfrom\u001b[39;00m \u001b[38;5;21;01mpandas\u001b[39;00m\u001b[38;5;21;01m.\u001b[39;00m\u001b[38;5;21;01mcore\u001b[39;00m\u001b[38;5;21;01m.\u001b[39;00m\u001b[38;5;21;01mgroupby\u001b[39;00m\u001b[38;5;21;01m.\u001b[39;00m\u001b[38;5;21;01mgeneric\u001b[39;00m \u001b[38;5;28;01mimport\u001b[39;00m (\n\u001b[0;32m      2\u001b[0m     DataFrameGroupBy,\n\u001b[0;32m      3\u001b[0m     NamedAgg,\n\u001b[0;32m      4\u001b[0m     SeriesGroupBy,\n\u001b[0;32m      5\u001b[0m )\n\u001b[0;32m      6\u001b[0m \u001b[38;5;28;01mfrom\u001b[39;00m \u001b[38;5;21;01mpandas\u001b[39;00m\u001b[38;5;21;01m.\u001b[39;00m\u001b[38;5;21;01mcore\u001b[39;00m\u001b[38;5;21;01m.\u001b[39;00m\u001b[38;5;21;01mgroupby\u001b[39;00m\u001b[38;5;21;01m.\u001b[39;00m\u001b[38;5;21;01mgroupby\u001b[39;00m \u001b[38;5;28;01mimport\u001b[39;00m GroupBy\n\u001b[0;32m      7\u001b[0m \u001b[38;5;28;01mfrom\u001b[39;00m \u001b[38;5;21;01mpandas\u001b[39;00m\u001b[38;5;21;01m.\u001b[39;00m\u001b[38;5;21;01mcore\u001b[39;00m\u001b[38;5;21;01m.\u001b[39;00m\u001b[38;5;21;01mgroupby\u001b[39;00m\u001b[38;5;21;01m.\u001b[39;00m\u001b[38;5;21;01mgrouper\u001b[39;00m \u001b[38;5;28;01mimport\u001b[39;00m Grouper\n",
      "File \u001b[1;32m~\\AppData\\Local\\Programs\\Python\\Python310\\lib\\site-packages\\pandas\\core\\groupby\\generic.py:79\u001b[0m\n\u001b[0;32m     77\u001b[0m \u001b[38;5;28;01mfrom\u001b[39;00m \u001b[38;5;21;01mpandas\u001b[39;00m\u001b[38;5;21;01m.\u001b[39;00m\u001b[38;5;21;01mcore\u001b[39;00m\u001b[38;5;21;01m.\u001b[39;00m\u001b[38;5;21;01mframe\u001b[39;00m \u001b[38;5;28;01mimport\u001b[39;00m DataFrame\n\u001b[0;32m     78\u001b[0m \u001b[38;5;28;01mfrom\u001b[39;00m \u001b[38;5;21;01mpandas\u001b[39;00m\u001b[38;5;21;01m.\u001b[39;00m\u001b[38;5;21;01mcore\u001b[39;00m\u001b[38;5;21;01m.\u001b[39;00m\u001b[38;5;21;01mgroupby\u001b[39;00m \u001b[38;5;28;01mimport\u001b[39;00m base\n\u001b[1;32m---> 79\u001b[0m \u001b[38;5;28;01mfrom\u001b[39;00m \u001b[38;5;21;01mpandas\u001b[39;00m\u001b[38;5;21;01m.\u001b[39;00m\u001b[38;5;21;01mcore\u001b[39;00m\u001b[38;5;21;01m.\u001b[39;00m\u001b[38;5;21;01mgroupby\u001b[39;00m\u001b[38;5;21;01m.\u001b[39;00m\u001b[38;5;21;01mgroupby\u001b[39;00m \u001b[38;5;28;01mimport\u001b[39;00m (\n\u001b[0;32m     80\u001b[0m     GroupBy,\n\u001b[0;32m     81\u001b[0m     _agg_template,\n\u001b[0;32m     82\u001b[0m     _apply_docs,\n\u001b[0;32m     83\u001b[0m     _transform_template,\n\u001b[0;32m     84\u001b[0m     warn_dropping_nuisance_columns_deprecated,\n\u001b[0;32m     85\u001b[0m )\n\u001b[0;32m     86\u001b[0m \u001b[38;5;28;01mfrom\u001b[39;00m \u001b[38;5;21;01mpandas\u001b[39;00m\u001b[38;5;21;01m.\u001b[39;00m\u001b[38;5;21;01mcore\u001b[39;00m\u001b[38;5;21;01m.\u001b[39;00m\u001b[38;5;21;01mgroupby\u001b[39;00m\u001b[38;5;21;01m.\u001b[39;00m\u001b[38;5;21;01mgrouper\u001b[39;00m \u001b[38;5;28;01mimport\u001b[39;00m get_grouper\n\u001b[0;32m     87\u001b[0m \u001b[38;5;28;01mfrom\u001b[39;00m \u001b[38;5;21;01mpandas\u001b[39;00m\u001b[38;5;21;01m.\u001b[39;00m\u001b[38;5;21;01mcore\u001b[39;00m\u001b[38;5;21;01m.\u001b[39;00m\u001b[38;5;21;01mindexes\u001b[39;00m\u001b[38;5;21;01m.\u001b[39;00m\u001b[38;5;21;01mapi\u001b[39;00m \u001b[38;5;28;01mimport\u001b[39;00m (\n\u001b[0;32m     88\u001b[0m     Index,\n\u001b[0;32m     89\u001b[0m     MultiIndex,\n\u001b[0;32m     90\u001b[0m     all_indexes_same,\n\u001b[0;32m     91\u001b[0m )\n",
      "File \u001b[1;32m~\\AppData\\Local\\Programs\\Python\\Python310\\lib\\site-packages\\pandas\\core\\groupby\\groupby.py:45\u001b[0m\n\u001b[0;32m     39\u001b[0m \u001b[38;5;28;01mfrom\u001b[39;00m \u001b[38;5;21;01mpandas\u001b[39;00m\u001b[38;5;21;01m.\u001b[39;00m\u001b[38;5;21;01m_config\u001b[39;00m\u001b[38;5;21;01m.\u001b[39;00m\u001b[38;5;21;01mconfig\u001b[39;00m \u001b[38;5;28;01mimport\u001b[39;00m option_context\n\u001b[0;32m     41\u001b[0m \u001b[38;5;28;01mfrom\u001b[39;00m \u001b[38;5;21;01mpandas\u001b[39;00m\u001b[38;5;21;01m.\u001b[39;00m\u001b[38;5;21;01m_libs\u001b[39;00m \u001b[38;5;28;01mimport\u001b[39;00m (\n\u001b[0;32m     42\u001b[0m     Timestamp,\n\u001b[0;32m     43\u001b[0m     lib,\n\u001b[0;32m     44\u001b[0m )\n\u001b[1;32m---> 45\u001b[0m \u001b[38;5;28;01mimport\u001b[39;00m \u001b[38;5;21;01mpandas\u001b[39;00m\u001b[38;5;21;01m.\u001b[39;00m\u001b[38;5;21;01m_libs\u001b[39;00m\u001b[38;5;21;01m.\u001b[39;00m\u001b[38;5;21;01mgroupby\u001b[39;00m \u001b[38;5;28;01mas\u001b[39;00m \u001b[38;5;21;01mlibgroupby\u001b[39;00m\n\u001b[0;32m     46\u001b[0m \u001b[38;5;28;01mfrom\u001b[39;00m \u001b[38;5;21;01mpandas\u001b[39;00m\u001b[38;5;21;01m.\u001b[39;00m\u001b[38;5;21;01m_typing\u001b[39;00m \u001b[38;5;28;01mimport\u001b[39;00m (\n\u001b[0;32m     47\u001b[0m     ArrayLike,\n\u001b[0;32m     48\u001b[0m     IndexLabel,\n\u001b[1;32m   (...)\u001b[0m\n\u001b[0;32m     54\u001b[0m     npt,\n\u001b[0;32m     55\u001b[0m )\n\u001b[0;32m     56\u001b[0m \u001b[38;5;28;01mfrom\u001b[39;00m \u001b[38;5;21;01mpandas\u001b[39;00m\u001b[38;5;21;01m.\u001b[39;00m\u001b[38;5;21;01mcompat\u001b[39;00m\u001b[38;5;21;01m.\u001b[39;00m\u001b[38;5;21;01mnumpy\u001b[39;00m \u001b[38;5;28;01mimport\u001b[39;00m function \u001b[38;5;28;01mas\u001b[39;00m nv\n",
      "File \u001b[1;32m<frozen importlib._bootstrap>:404\u001b[0m, in \u001b[0;36mparent\u001b[1;34m(self)\u001b[0m\n",
      "\u001b[1;31mKeyboardInterrupt\u001b[0m: "
     ]
    }
   ],
   "source": [
    "import pandas as pd"
   ]
  },
  {
   "cell_type": "code",
   "execution_count": null,
   "id": "038af7b0",
   "metadata": {},
   "outputs": [],
   "source": [
    "df_profiles = pd.read_csv(r\"C:\\Users\\rayma\\Desktop\\DataSets\\instagram_profiles.csv\", delimiter='\\t')"
   ]
  },
  {
   "cell_type": "code",
   "execution_count": null,
   "id": "116a8f07",
   "metadata": {},
   "outputs": [],
   "source": [
    "df_posts = pd.read_csv(r\"C:\\Users\\rayma\\Desktop\\DataSets\\instagram_posts.csv\", delimiter='\\t')"
   ]
  },
  {
   "cell_type": "code",
   "execution_count": null,
   "id": "05f9ab39",
   "metadata": {},
   "outputs": [],
   "source": [
    "df_locations = pd.read_csv(r\"C:\\Users\\rayma\\Desktop\\DataSets\\instagram_locations.csv\", delimiter='\\t')"
   ]
  },
  {
   "cell_type": "markdown",
   "id": "005b8242",
   "metadata": {},
   "source": [
    "Then we should try to check for the missing values and visualizing them."
   ]
  },
  {
   "cell_type": "code",
   "execution_count": null,
   "id": "4176e986",
   "metadata": {},
   "outputs": [],
   "source": [
    "df_profiles.isna().sum()"
   ]
  },
  {
   "cell_type": "code",
   "execution_count": 171,
   "id": "729754d3",
   "metadata": {},
   "outputs": [
    {
     "data": {
      "text/plain": [
       "sid                       0\n",
       "id                        0\n",
       "name                      0\n",
       "street                    0\n",
       "zip                       0\n",
       "city                      0\n",
       "region                    0\n",
       "cd                        0\n",
       "phone                     0\n",
       "aj_exact_city_match       0\n",
       "aj_exact_country_match    0\n",
       "blurb                     0\n",
       "dir_city_id               0\n",
       "dir_city_name             0\n",
       "dir_city_slug             0\n",
       "dir_country_id            0\n",
       "dir_country_name          0\n",
       "lat                       0\n",
       "lng                       0\n",
       "primary_alias_on_fb       0\n",
       "slug                      0\n",
       "website                   0\n",
       "cts                       0\n",
       "dtype: int64"
      ]
     },
     "execution_count": 171,
     "metadata": {},
     "output_type": "execute_result"
    }
   ],
   "source": [
    "df_locations.isna().sum()"
   ]
  },
  {
   "cell_type": "code",
   "execution_count": 163,
   "id": "a122ee22",
   "metadata": {},
   "outputs": [
    {
     "data": {
      "text/plain": [
       "sid                0\n",
       "sid_profile        0\n",
       "post_id            0\n",
       "profile_id         0\n",
       "location_id        0\n",
       "cts                0\n",
       "post_type          0\n",
       "description        0\n",
       "numbr_likes        0\n",
       "number_comments    0\n",
       "dtype: int64"
      ]
     },
     "execution_count": 163,
     "metadata": {},
     "output_type": "execute_result"
    }
   ],
   "source": [
    "df_posts.isna().sum()"
   ]
  },
  {
   "cell_type": "markdown",
   "id": "bea8c1ab",
   "metadata": {},
   "source": [
    "Then we should try to replace the missing values."
   ]
  },
  {
   "cell_type": "code",
   "execution_count": 153,
   "id": "5e309bde",
   "metadata": {},
   "outputs": [],
   "source": [
    "df_profiles['n_posts'] = df_profiles['n_posts'].fillna(0)\n",
    "df_profiles['following'] = df_profiles['following'].fillna(0)\n",
    "df_profiles['followers'] = df_profiles['followers'].fillna(0)\n",
    "df_profiles.description.fillna('', inplace=True)\n",
    "df_profiles.firstname_lastname.fillna('', inplace=True)\n",
    "df_profiles.profile_name.fillna('', inplace=True)\n",
    "df_profiles.is_business_account.fillna(False, inplace=True)\n",
    "df_profiles.url.fillna('', inplace=True)\n",
    "df_profiles.cts.fillna('', inplace=True)\n",
    "df_profiles.profile_id.fillna('', inplace=True)"
   ]
  },
  {
   "cell_type": "code",
   "execution_count": 162,
   "id": "570fdd31",
   "metadata": {},
   "outputs": [],
   "source": [
    "df_posts['profile_id'] = df_posts['n_posts'].fillna(0)\n",
    "df_posts.description.fillna('', inplace=True)\n",
    "df_posts.cts.fillna('', inplace=True)\n"
   ]
  },
  {
   "cell_type": "code",
   "execution_count": 170,
   "id": "e45dbbb9",
   "metadata": {},
   "outputs": [],
   "source": [
    "df_locations['zip'] = df_locations['zip'].fillna(0)\n",
    "df_locations['phone'] = df_locations['phone'].fillna(0)\n",
    "df_locations['lng'] = df_locations['lng'].fillna(0)\n",
    "df_locations['lat'] = df_locations['lat'].fillna(0)\n",
    "df_locations.slug.fillna('', inplace=True)\n",
    "df_locations.street.fillna('', inplace=True)\n",
    "df_locations.website.fillna('', inplace=True)\n",
    "df_locations.city.fillna('', inplace=True)\n",
    "df_locations.region.fillna('', inplace=True)\n",
    "df_locations.cd.fillna('', inplace=True)\n",
    "df_locations.primary_alias_on_fb.fillna('', inplace=True)\n",
    "df_locations.dir_country_name.fillna('', inplace=True)\n",
    "df_locations.dir_country_id.fillna('', inplace=True)\n",
    "df_locations.dir_city_slug.fillna('', inplace=True)\n",
    "df_locations.dir_city_name.fillna('', inplace=True)\n",
    "df_locations.dir_city_id.fillna('', inplace=True)\n",
    "df_locations.blurb.fillna('', inplace=True)\n",
    "df_locations.aj_exact_country_match.fillna(False, inplace=True)\n",
    "df_locations.aj_exact_city_match.fillna(False, inplace=True)"
   ]
  },
  {
   "cell_type": "markdown",
   "id": "8734e192",
   "metadata": {},
   "source": [
    "Then we should visulaize our datas."
   ]
  },
  {
   "cell_type": "code",
   "execution_count": 200,
   "id": "0b3c04d4",
   "metadata": {},
   "outputs": [
    {
     "data": {
      "image/png": "[encoded data removed]",
      "text/plain": [
       "<Figure size 432x288 with 1 Axes>"
      ]
     },
     "metadata": {},
     "output_type": "display_data"
    }
   ],
   "source": [
    "df_profiles.is_business_account.fillna(False, inplace=True)\n",
    "isnot_business_account = df_profiles.loc[df_profiles['is_business_account'] == False]\n",
    "Numberofnotbusiness = len(isnot_business_account)\n",
    "is_business_account = df_profiles.loc[df_profiles['is_business_account'] == True]\n",
    "Numberofbusiness = len(is_business_account)\n",
    "labels= ['Is Business Account', 'Is Not Business Account']\n",
    "\n",
    "colors=['green', 'red']\n",
    "\n",
    "sizes= [Numberofbusiness, Numberofnotbusiness]\n",
    "\n",
    "plt.pie(sizes,labels=labels, colors=colors, startangle=90, autopct='%1.1f%%')\n",
    "\n",
    "plt.axis('equal')\n",
    "\n",
    "plt.show()"
   ]
  },
  {
   "cell_type": "markdown",
   "id": "5920c1c2",
   "metadata": {},
   "source": [
    "# RQ2"
   ]
  },
  {
   "cell_type": "code",
   "execution_count": 173,
   "id": "475be392",
   "metadata": {},
   "outputs": [
    {
     "data": {
      "text/html": [
       "<div>\n",
       "<style scoped>\n",
       "    .dataframe tbody tr th:only-of-type {\n",
       "        vertical-align: middle;\n",
       "    }\n",
       "\n",
       "    .dataframe tbody tr th {\n",
       "        vertical-align: top;\n",
       "    }\n",
       "\n",
       "    .dataframe thead th {\n",
       "        text-align: right;\n",
       "    }\n",
       "</style>\n",
       "<table border=\"1\" class=\"dataframe\">\n",
       "  <thead>\n",
       "    <tr style=\"text-align: right;\">\n",
       "      <th></th>\n",
       "      <th>sid</th>\n",
       "      <th>profile_id</th>\n",
       "      <th>profile_name</th>\n",
       "      <th>firstname_lastname</th>\n",
       "      <th>description</th>\n",
       "      <th>following</th>\n",
       "      <th>followers</th>\n",
       "      <th>n_posts</th>\n",
       "      <th>url</th>\n",
       "      <th>cts</th>\n",
       "      <th>is_business_account</th>\n",
       "    </tr>\n",
       "  </thead>\n",
       "  <tbody>\n",
       "    <tr>\n",
       "      <th>49999</th>\n",
       "      <td>4235335</td>\n",
       "      <td>4788682824.0</td>\n",
       "      <td>_.hanna._22</td>\n",
       "      <td>Hanna</td>\n",
       "      <td></td>\n",
       "      <td>0.0</td>\n",
       "      <td>0.0</td>\n",
       "      <td>0.0</td>\n",
       "      <td></td>\n",
       "      <td>2019-08-05 17:45:26.265 -0400</td>\n",
       "      <td>False</td>\n",
       "    </tr>\n",
       "    <tr>\n",
       "      <th>78294</th>\n",
       "      <td>4263436</td>\n",
       "      <td>924914560.0</td>\n",
       "      <td>phine.j</td>\n",
       "      <td>Delphine Janssens</td>\n",
       "      <td></td>\n",
       "      <td>0.0</td>\n",
       "      <td>0.0</td>\n",
       "      <td>0.0</td>\n",
       "      <td></td>\n",
       "      <td>2019-08-07 08:02:04.215 -0400</td>\n",
       "      <td>False</td>\n",
       "    </tr>\n",
       "    <tr>\n",
       "      <th>78290</th>\n",
       "      <td>4263475</td>\n",
       "      <td>6050110973.0</td>\n",
       "      <td>barunkasediva</td>\n",
       "      <td>Barbora Šedivá</td>\n",
       "      <td></td>\n",
       "      <td>0.0</td>\n",
       "      <td>0.0</td>\n",
       "      <td>0.0</td>\n",
       "      <td></td>\n",
       "      <td>2019-08-07 08:05:07.663 -0400</td>\n",
       "      <td>False</td>\n",
       "    </tr>\n",
       "    <tr>\n",
       "      <th>78288</th>\n",
       "      <td>4263470</td>\n",
       "      <td>4651939104.0</td>\n",
       "      <td>vidasov_</td>\n",
       "      <td>Vidasov Jirka</td>\n",
       "      <td></td>\n",
       "      <td>0.0</td>\n",
       "      <td>0.0</td>\n",
       "      <td>0.0</td>\n",
       "      <td></td>\n",
       "      <td>2019-08-07 08:04:47.161 -0400</td>\n",
       "      <td>False</td>\n",
       "    </tr>\n",
       "    <tr>\n",
       "      <th>78287</th>\n",
       "      <td>4263469</td>\n",
       "      <td>4016762692.0</td>\n",
       "      <td>improkluk</td>\n",
       "      <td>Lukas Venclik</td>\n",
       "      <td></td>\n",
       "      <td>0.0</td>\n",
       "      <td>0.0</td>\n",
       "      <td>0.0</td>\n",
       "      <td></td>\n",
       "      <td>2019-08-07 08:04:45.790 -0400</td>\n",
       "      <td>False</td>\n",
       "    </tr>\n",
       "    <tr>\n",
       "      <th>...</th>\n",
       "      <td>...</td>\n",
       "      <td>...</td>\n",
       "      <td>...</td>\n",
       "      <td>...</td>\n",
       "      <td>...</td>\n",
       "      <td>...</td>\n",
       "      <td>...</td>\n",
       "      <td>...</td>\n",
       "      <td>...</td>\n",
       "      <td>...</td>\n",
       "      <td>...</td>\n",
       "    </tr>\n",
       "    <tr>\n",
       "      <th>79679</th>\n",
       "      <td>4264849</td>\n",
       "      <td>25290708.0</td>\n",
       "      <td>micodelrosario1</td>\n",
       "      <td>Mico Del Rosario</td>\n",
       "      <td>Film | Food | Work | Travel. In the business o...</td>\n",
       "      <td>1368.0</td>\n",
       "      <td>145967.0</td>\n",
       "      <td>35664.0</td>\n",
       "      <td></td>\n",
       "      <td>2019-08-07 09:58:07.756 -0400</td>\n",
       "      <td>False</td>\n",
       "    </tr>\n",
       "    <tr>\n",
       "      <th>92331</th>\n",
       "      <td>4277400</td>\n",
       "      <td>1576015004.0</td>\n",
       "      <td>glam_fashion_clothes</td>\n",
       "      <td>Магазин модной Одежды</td>\n",
       "      <td>Цены указаны розничные✅ Доставка по Украине 1-...</td>\n",
       "      <td>7270.0</td>\n",
       "      <td>31758.0</td>\n",
       "      <td>37298.0</td>\n",
       "      <td></td>\n",
       "      <td>2019-08-08 02:52:54.528 -0400</td>\n",
       "      <td>False</td>\n",
       "    </tr>\n",
       "    <tr>\n",
       "      <th>6957</th>\n",
       "      <td>4192500</td>\n",
       "      <td>243048679.0</td>\n",
       "      <td>fawaz4422</td>\n",
       "      <td>Fawaz Abdullah Al Jaidah</td>\n",
       "      <td>🇬🇧. @Fawazabdullah.🇬🇧 @hani_almawash - @w3c5 -...</td>\n",
       "      <td>6755.0</td>\n",
       "      <td>9976.0</td>\n",
       "      <td>37753.0</td>\n",
       "      <td></td>\n",
       "      <td>2019-08-01 23:13:49.919 -0400</td>\n",
       "      <td>True</td>\n",
       "    </tr>\n",
       "    <tr>\n",
       "      <th>91547</th>\n",
       "      <td>4276585</td>\n",
       "      <td>1639967813.0</td>\n",
       "      <td>monti_shop</td>\n",
       "      <td>Обувь👠Костюмы👗Платья🎒Сумки👜</td>\n",
       "      <td>Ты найдёшь у нас все🛍\\n⠀\\n📲0637093079\\n🚚Оплата...</td>\n",
       "      <td>6098.0</td>\n",
       "      <td>34558.0</td>\n",
       "      <td>39744.0</td>\n",
       "      <td></td>\n",
       "      <td>2019-08-08 01:53:57.719 -0400</td>\n",
       "      <td>True</td>\n",
       "    </tr>\n",
       "    <tr>\n",
       "      <th>98999</th>\n",
       "      <td>4284057</td>\n",
       "      <td>4372281825.0</td>\n",
       "      <td>fonkart</td>\n",
       "      <td>Fonkart</td>\n",
       "      <td>Artist. Music composer. Signature : fonkart Fo...</td>\n",
       "      <td>1076.0</td>\n",
       "      <td>1923.0</td>\n",
       "      <td>41762.0</td>\n",
       "      <td>m.youtube.com/channel/UCq2evst4gyYza2uMjbW_lDA...</td>\n",
       "      <td>2019-08-08 11:16:56.685 -0400</td>\n",
       "      <td>True</td>\n",
       "    </tr>\n",
       "  </tbody>\n",
       "</table>\n",
       "<p>100000 rows × 11 columns</p>\n",
       "</div>"
      ],
      "text/plain": [
       "           sid    profile_id          profile_name  \\\n",
       "49999  4235335  4788682824.0           _.hanna._22   \n",
       "78294  4263436   924914560.0               phine.j   \n",
       "78290  4263475  6050110973.0         barunkasediva   \n",
       "78288  4263470  4651939104.0              vidasov_   \n",
       "78287  4263469  4016762692.0             improkluk   \n",
       "...        ...           ...                   ...   \n",
       "79679  4264849    25290708.0       micodelrosario1   \n",
       "92331  4277400  1576015004.0  glam_fashion_clothes   \n",
       "6957   4192500   243048679.0             fawaz4422   \n",
       "91547  4276585  1639967813.0            monti_shop   \n",
       "98999  4284057  4372281825.0               fonkart   \n",
       "\n",
       "                firstname_lastname  \\\n",
       "49999                        Hanna   \n",
       "78294            Delphine Janssens   \n",
       "78290               Barbora Šedivá   \n",
       "78288                Vidasov Jirka   \n",
       "78287                Lukas Venclik   \n",
       "...                            ...   \n",
       "79679             Mico Del Rosario   \n",
       "92331        Магазин модной Одежды   \n",
       "6957      Fawaz Abdullah Al Jaidah   \n",
       "91547  Обувь👠Костюмы👗Платья🎒Сумки👜   \n",
       "98999                      Fonkart   \n",
       "\n",
       "                                             description  following  \\\n",
       "49999                                                           0.0   \n",
       "78294                                                           0.0   \n",
       "78290                                                           0.0   \n",
       "78288                                                           0.0   \n",
       "78287                                                           0.0   \n",
       "...                                                  ...        ...   \n",
       "79679  Film | Food | Work | Travel. In the business o...     1368.0   \n",
       "92331  Цены указаны розничные✅ Доставка по Украине 1-...     7270.0   \n",
       "6957   🇬🇧. @Fawazabdullah.🇬🇧 @hani_almawash - @w3c5 -...     6755.0   \n",
       "91547  Ты найдёшь у нас все🛍\\n⠀\\n📲0637093079\\n🚚Оплата...     6098.0   \n",
       "98999  Artist. Music composer. Signature : fonkart Fo...     1076.0   \n",
       "\n",
       "       followers  n_posts                                                url  \\\n",
       "49999        0.0      0.0                                                      \n",
       "78294        0.0      0.0                                                      \n",
       "78290        0.0      0.0                                                      \n",
       "78288        0.0      0.0                                                      \n",
       "78287        0.0      0.0                                                      \n",
       "...          ...      ...                                                ...   \n",
       "79679   145967.0  35664.0                                                      \n",
       "92331    31758.0  37298.0                                                      \n",
       "6957      9976.0  37753.0                                                      \n",
       "91547    34558.0  39744.0                                                      \n",
       "98999     1923.0  41762.0  m.youtube.com/channel/UCq2evst4gyYza2uMjbW_lDA...   \n",
       "\n",
       "                                 cts  is_business_account  \n",
       "49999  2019-08-05 17:45:26.265 -0400                False  \n",
       "78294  2019-08-07 08:02:04.215 -0400                False  \n",
       "78290  2019-08-07 08:05:07.663 -0400                False  \n",
       "78288  2019-08-07 08:04:47.161 -0400                False  \n",
       "78287  2019-08-07 08:04:45.790 -0400                False  \n",
       "...                              ...                  ...  \n",
       "79679  2019-08-07 09:58:07.756 -0400                False  \n",
       "92331  2019-08-08 02:52:54.528 -0400                False  \n",
       "6957   2019-08-01 23:13:49.919 -0400                 True  \n",
       "91547  2019-08-08 01:53:57.719 -0400                 True  \n",
       "98999  2019-08-08 11:16:56.685 -0400                 True  \n",
       "\n",
       "[100000 rows x 11 columns]"
      ]
     },
     "execution_count": 173,
     "metadata": {},
     "output_type": "execute_result"
    }
   ],
   "source": [
    "df_profiles.sort_values(by='n_posts', ascending=True)"
   ]
  },
  {
   "cell_type": "code",
   "execution_count": 201,
   "id": "a73644f2",
   "metadata": {},
   "outputs": [],
   "source": [
    "df_posts = pd.read_csv(r\"C:\\Users\\rayma\\Desktop\\DataSets\\instagram_posts.csv\", delimiter='\\t', usecols=[\"numbr_likes\", \"number_comments\", \"location_id\", \"post_type\"])\n",
    "High_NumberLikes = df_posts['numbr_likes'].max()"
   ]
  },
  {
   "cell_type": "code",
   "execution_count": 202,
   "id": "79d37314",
   "metadata": {},
   "outputs": [
    {
     "data": {
      "text/plain": [
       "8822952.0"
      ]
     },
     "execution_count": 202,
     "metadata": {},
     "output_type": "execute_result"
    }
   ],
   "source": [
    "High_NumberLikes"
   ]
  },
  {
   "cell_type": "code",
   "execution_count": 203,
   "id": "ba2ffd1d",
   "metadata": {},
   "outputs": [
    {
     "data": {
      "text/html": [
       "<div>\n",
       "<style scoped>\n",
       "    .dataframe tbody tr th:only-of-type {\n",
       "        vertical-align: middle;\n",
       "    }\n",
       "\n",
       "    .dataframe tbody tr th {\n",
       "        vertical-align: top;\n",
       "    }\n",
       "\n",
       "    .dataframe thead th {\n",
       "        text-align: right;\n",
       "    }\n",
       "</style>\n",
       "<table border=\"1\" class=\"dataframe\">\n",
       "  <thead>\n",
       "    <tr style=\"text-align: right;\">\n",
       "      <th></th>\n",
       "      <th>location_id</th>\n",
       "      <th>post_type</th>\n",
       "      <th>numbr_likes</th>\n",
       "      <th>number_comments</th>\n",
       "    </tr>\n",
       "  </thead>\n",
       "  <tbody>\n",
       "    <tr>\n",
       "      <th>19624085</th>\n",
       "      <td>NaN</td>\n",
       "      <td>1</td>\n",
       "      <td>8822952.0</td>\n",
       "      <td>165886.0</td>\n",
       "    </tr>\n",
       "  </tbody>\n",
       "</table>\n",
       "</div>"
      ],
      "text/plain": [
       "          location_id  post_type  numbr_likes  number_comments\n",
       "19624085          NaN          1    8822952.0         165886.0"
      ]
     },
     "execution_count": 203,
     "metadata": {},
     "output_type": "execute_result"
    }
   ],
   "source": [
    "df_posts. loc[df_posts['numbr_likes'] == High_NumberLikes]"
   ]
  },
  {
   "cell_type": "code",
   "execution_count": 204,
   "id": "f2257779",
   "metadata": {},
   "outputs": [],
   "source": [
    "High_NumberComments = df_posts['number_comments'].max()"
   ]
  },
  {
   "cell_type": "code",
   "execution_count": 205,
   "id": "9bf7c815",
   "metadata": {},
   "outputs": [],
   "source": [
    "Least_NumberComments = df_posts['number_comments'].min()"
   ]
  },
  {
   "cell_type": "code",
   "execution_count": 206,
   "id": "bc300b28",
   "metadata": {},
   "outputs": [
    {
     "data": {
      "text/html": [
       "<div>\n",
       "<style scoped>\n",
       "    .dataframe tbody tr th:only-of-type {\n",
       "        vertical-align: middle;\n",
       "    }\n",
       "\n",
       "    .dataframe tbody tr th {\n",
       "        vertical-align: top;\n",
       "    }\n",
       "\n",
       "    .dataframe thead th {\n",
       "        text-align: right;\n",
       "    }\n",
       "</style>\n",
       "<table border=\"1\" class=\"dataframe\">\n",
       "  <thead>\n",
       "    <tr style=\"text-align: right;\">\n",
       "      <th></th>\n",
       "      <th>location_id</th>\n",
       "      <th>post_type</th>\n",
       "      <th>numbr_likes</th>\n",
       "      <th>number_comments</th>\n",
       "    </tr>\n",
       "  </thead>\n",
       "  <tbody>\n",
       "    <tr>\n",
       "      <th>41873060</th>\n",
       "      <td>244000222.0</td>\n",
       "      <td>1</td>\n",
       "      <td>38871.0</td>\n",
       "      <td>488953.0</td>\n",
       "    </tr>\n",
       "  </tbody>\n",
       "</table>\n",
       "</div>"
      ],
      "text/plain": [
       "          location_id  post_type  numbr_likes  number_comments\n",
       "41873060  244000222.0          1      38871.0         488953.0"
      ]
     },
     "execution_count": 206,
     "metadata": {},
     "output_type": "execute_result"
    }
   ],
   "source": [
    "df_posts. loc[df_posts['number_comments'] == High_NumberComments]"
   ]
  },
  {
   "cell_type": "code",
   "execution_count": 207,
   "id": "f9c09811",
   "metadata": {},
   "outputs": [
    {
     "data": {
      "text/html": [
       "<div>\n",
       "<style scoped>\n",
       "    .dataframe tbody tr th:only-of-type {\n",
       "        vertical-align: middle;\n",
       "    }\n",
       "\n",
       "    .dataframe tbody tr th {\n",
       "        vertical-align: top;\n",
       "    }\n",
       "\n",
       "    .dataframe thead th {\n",
       "        text-align: right;\n",
       "    }\n",
       "</style>\n",
       "<table border=\"1\" class=\"dataframe\">\n",
       "  <thead>\n",
       "    <tr style=\"text-align: right;\">\n",
       "      <th></th>\n",
       "      <th>location_id</th>\n",
       "      <th>post_type</th>\n",
       "      <th>numbr_likes</th>\n",
       "      <th>number_comments</th>\n",
       "    </tr>\n",
       "  </thead>\n",
       "  <tbody>\n",
       "    <tr>\n",
       "      <th>0</th>\n",
       "      <td>1.022366e+15</td>\n",
       "      <td>2</td>\n",
       "      <td>80.0</td>\n",
       "      <td>0.0</td>\n",
       "    </tr>\n",
       "    <tr>\n",
       "      <th>2</th>\n",
       "      <td>4.574268e+14</td>\n",
       "      <td>1</td>\n",
       "      <td>9.0</td>\n",
       "      <td>0.0</td>\n",
       "    </tr>\n",
       "    <tr>\n",
       "      <th>3</th>\n",
       "      <td>4.574268e+14</td>\n",
       "      <td>1</td>\n",
       "      <td>4.0</td>\n",
       "      <td>0.0</td>\n",
       "    </tr>\n",
       "    <tr>\n",
       "      <th>4</th>\n",
       "      <td>4.574268e+14</td>\n",
       "      <td>1</td>\n",
       "      <td>8.0</td>\n",
       "      <td>0.0</td>\n",
       "    </tr>\n",
       "    <tr>\n",
       "      <th>11</th>\n",
       "      <td>2.826187e+08</td>\n",
       "      <td>1</td>\n",
       "      <td>16.0</td>\n",
       "      <td>0.0</td>\n",
       "    </tr>\n",
       "    <tr>\n",
       "      <th>...</th>\n",
       "      <td>...</td>\n",
       "      <td>...</td>\n",
       "      <td>...</td>\n",
       "      <td>...</td>\n",
       "    </tr>\n",
       "    <tr>\n",
       "      <th>42710190</th>\n",
       "      <td>4.574268e+14</td>\n",
       "      <td>1</td>\n",
       "      <td>43.0</td>\n",
       "      <td>0.0</td>\n",
       "    </tr>\n",
       "    <tr>\n",
       "      <th>42710191</th>\n",
       "      <td>4.574268e+14</td>\n",
       "      <td>1</td>\n",
       "      <td>149.0</td>\n",
       "      <td>0.0</td>\n",
       "    </tr>\n",
       "    <tr>\n",
       "      <th>42710192</th>\n",
       "      <td>4.574268e+14</td>\n",
       "      <td>1</td>\n",
       "      <td>74.0</td>\n",
       "      <td>0.0</td>\n",
       "    </tr>\n",
       "    <tr>\n",
       "      <th>42710193</th>\n",
       "      <td>4.574268e+14</td>\n",
       "      <td>1</td>\n",
       "      <td>49.0</td>\n",
       "      <td>0.0</td>\n",
       "    </tr>\n",
       "    <tr>\n",
       "      <th>42710194</th>\n",
       "      <td>4.574268e+14</td>\n",
       "      <td>1</td>\n",
       "      <td>18.0</td>\n",
       "      <td>0.0</td>\n",
       "    </tr>\n",
       "  </tbody>\n",
       "</table>\n",
       "<p>14133169 rows × 4 columns</p>\n",
       "</div>"
      ],
      "text/plain": [
       "           location_id  post_type  numbr_likes  number_comments\n",
       "0         1.022366e+15          2         80.0              0.0\n",
       "2         4.574268e+14          1          9.0              0.0\n",
       "3         4.574268e+14          1          4.0              0.0\n",
       "4         4.574268e+14          1          8.0              0.0\n",
       "11        2.826187e+08          1         16.0              0.0\n",
       "...                ...        ...          ...              ...\n",
       "42710190  4.574268e+14          1         43.0              0.0\n",
       "42710191  4.574268e+14          1        149.0              0.0\n",
       "42710192  4.574268e+14          1         74.0              0.0\n",
       "42710193  4.574268e+14          1         49.0              0.0\n",
       "42710194  4.574268e+14          1         18.0              0.0\n",
       "\n",
       "[14133169 rows x 4 columns]"
      ]
     },
     "execution_count": 207,
     "metadata": {},
     "output_type": "execute_result"
    }
   ],
   "source": [
    "df_posts. loc[df_posts['number_comments'] == Least_NumberComments]"
   ]
  },
  {
   "cell_type": "code",
   "execution_count": 208,
   "id": "35033722",
   "metadata": {},
   "outputs": [],
   "source": [
    "Number_PostnoLoc = df_posts['location_id'].isna().sum()\n"
   ]
  },
  {
   "cell_type": "code",
   "execution_count": 209,
   "id": "70554aba",
   "metadata": {},
   "outputs": [],
   "source": [
    "Number_PostWithLoc = len(df_posts)"
   ]
  },
  {
   "cell_type": "code",
   "execution_count": 210,
   "id": "fa7da0e6",
   "metadata": {},
   "outputs": [
    {
     "data": {
      "text/plain": [
       "42710197"
      ]
     },
     "execution_count": 210,
     "metadata": {},
     "output_type": "execute_result"
    }
   ],
   "source": [
    "Number_PostWithLoc"
   ]
  },
  {
   "cell_type": "code",
   "execution_count": 211,
   "id": "acfde5e3",
   "metadata": {},
   "outputs": [
    {
     "data": {
      "image/png": "[encoded data removed]",
      "text/plain": [
       "<Figure size 432x288 with 1 Axes>"
      ]
     },
     "metadata": {
      "needs_background": "light"
     },
     "output_type": "display_data"
    }
   ],
   "source": [
    "import matplotlib.pyplot as plt\n",
    "   \n",
    "PostTypes = ['Posts with Location','Posts without Location']\n",
    "Numbers = [Number_PostWithLoc,Number_PostnoLoc]\n",
    "\n",
    "plt.bar(PostTypes, Numbers)\n",
    "plt.xlabel('Posts')\n",
    "plt.ylabel('Number of Posts')\n",
    "plt.show()"
   ]
  },
  {
   "cell_type": "markdown",
   "id": "ba8ff25b",
   "metadata": {},
   "source": [
    "We can tell that we have more posts with location rather that posts that does not have locations."
   ]
  },
  {
   "cell_type": "code",
   "execution_count": 212,
   "id": "cbc72148",
   "metadata": {},
   "outputs": [],
   "source": [
    "PhotoPosts = df_posts.loc[df_posts['post_type'] == 1]\n",
    "NumberofPhotoPosts = len(PhotoPosts)"
   ]
  },
  {
   "cell_type": "code",
   "execution_count": 213,
   "id": "e52ec251",
   "metadata": {},
   "outputs": [],
   "source": [
    "PandVPosts = df_posts.loc[df_posts['post_type'] == 2]\n",
    "NumberofPandVPosts = len(PandVPosts)"
   ]
  },
  {
   "cell_type": "code",
   "execution_count": 214,
   "id": "fa338378",
   "metadata": {},
   "outputs": [
    {
     "data": {
      "text/plain": [
       "41534486"
      ]
     },
     "execution_count": 214,
     "metadata": {},
     "output_type": "execute_result"
    }
   ],
   "source": [
    "NumberofPhotoPosts"
   ]
  },
  {
   "cell_type": "code",
   "execution_count": 215,
   "id": "3b98ee1d",
   "metadata": {},
   "outputs": [
    {
     "data": {
      "text/plain": [
       "1134768"
      ]
     },
     "execution_count": 215,
     "metadata": {},
     "output_type": "execute_result"
    }
   ],
   "source": [
    "NumberofPandVPosts"
   ]
  },
  {
   "cell_type": "code",
   "execution_count": 177,
   "id": "f1edb739",
   "metadata": {},
   "outputs": [],
   "source": [
    "df_profiles.is_business_account.fillna(False, inplace=True)"
   ]
  },
  {
   "cell_type": "code",
   "execution_count": 178,
   "id": "7879765d",
   "metadata": {},
   "outputs": [
    {
     "data": {
      "text/plain": [
       "False    3654332\n",
       "True      855254\n",
       "Name: is_business_account, dtype: int64"
      ]
     },
     "execution_count": 178,
     "metadata": {},
     "output_type": "execute_result"
    }
   ],
   "source": [
    "df_profiles.is_business_account.value_counts()"
   ]
  },
  {
   "cell_type": "code",
   "execution_count": 179,
   "id": "db819d0a",
   "metadata": {},
   "outputs": [],
   "source": [
    "isnot_business_account = df_profiles.loc[df_profiles['is_business_account'] == False]\n",
    "Numberofnotbusiness = len(isnot_business_account)"
   ]
  },
  {
   "cell_type": "code",
   "execution_count": 180,
   "id": "ecbd0cef",
   "metadata": {},
   "outputs": [],
   "source": [
    "is_business_account = df_profiles.loc[df_profiles['is_business_account'] == True]\n",
    "Numberofbusiness = len(is_business_account)"
   ]
  },
  {
   "cell_type": "code",
   "execution_count": 181,
   "id": "2b31e334",
   "metadata": {},
   "outputs": [
    {
     "data": {
      "image/png": "[encoded data removed]",
      "text/plain": [
       "<Figure size 432x288 with 1 Axes>"
      ]
     },
     "metadata": {},
     "output_type": "display_data"
    }
   ],
   "source": [
    "labels= ['Is Business Account', 'Is Not Business Account']\n",
    "\n",
    "colors=['green', 'red']\n",
    "\n",
    "sizes= [Numberofbusiness, Numberofnotbusiness]\n",
    "\n",
    "plt.pie(sizes,labels=labels, colors=colors, startangle=90, autopct='%1.1f%%')\n",
    "\n",
    "plt.axis('equal')\n",
    "\n",
    "plt.show()"
   ]
  },
  {
   "cell_type": "markdown",
   "id": "77544750",
   "metadata": {},
   "source": [
    "We can tell that, more than a half of our profiles are not business accounts"
   ]
  },
  {
   "cell_type": "code",
   "execution_count": null,
   "id": "02888713",
   "metadata": {},
   "outputs": [],
   "source": []
  }
 ],
 "metadata": {
  "kernelspec": {
   "display_name": "Python 3 (ipykernel)",
   "language": "python",
   "name": "python3"
  },
  "language_info": {
   "codemirror_mode": {
    "name": "ipython",
    "version": 3
   },
   "file_extension": ".py",
   "mimetype": "text/x-python",
   "name": "python",
   "nbconvert_exporter": "python",
   "pygments_lexer": "ipython3",
   "version": "3.10.7"
  }
 },
 "nbformat": 4,
 "nbformat_minor": 5
}
