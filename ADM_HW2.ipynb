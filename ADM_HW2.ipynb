{
  "cells": [
    {
      "cell_type": "code",
      "execution_count": 1,
      "metadata": {
        "colab": {
          "base_uri": "https://localhost:8080/",
          "height": 74
        },
        "id": "rENtER7RAa_v",
        "outputId": "71efad8e-6417-471b-93a3-a917ae96ad7f"
      },
      "outputs": [
        {
          "output_type": "display_data",
          "data": {
            "text/plain": [
              "<IPython.core.display.HTML object>"
            ],
            "text/html": [
              "\n",
              "     <input type=\"file\" id=\"files-bc67c220-4b0b-4ac6-8f5f-369eca84059a\" name=\"files[]\" multiple disabled\n",
              "        style=\"border:none\" />\n",
              "     <output id=\"result-bc67c220-4b0b-4ac6-8f5f-369eca84059a\">\n",
              "      Upload widget is only available when the cell has been executed in the\n",
              "      current browser session. Please rerun this cell to enable.\n",
              "      </output>\n",
              "      <script>// Copyright 2017 Google LLC\n",
              "//\n",
              "// Licensed under the Apache License, Version 2.0 (the \"License\");\n",
              "// you may not use this file except in compliance with the License.\n",
              "// You may obtain a copy of the License at\n",
              "//\n",
              "//      http://www.apache.org/licenses/LICENSE-2.0\n",
              "//\n",
              "// Unless required by applicable law or agreed to in writing, software\n",
              "// distributed under the License is distributed on an \"AS IS\" BASIS,\n",
              "// WITHOUT WARRANTIES OR CONDITIONS OF ANY KIND, either express or implied.\n",
              "// See the License for the specific language governing permissions and\n",
              "// limitations under the License.\n",
              "\n",
              "/**\n",
              " * @fileoverview Helpers for google.colab Python module.\n",
              " */\n",
              "(function(scope) {\n",
              "function span(text, styleAttributes = {}) {\n",
              "  const element = document.createElement('span');\n",
              "  element.textContent = text;\n",
              "  for (const key of Object.keys(styleAttributes)) {\n",
              "    element.style[key] = styleAttributes[key];\n",
              "  }\n",
              "  return element;\n",
              "}\n",
              "\n",
              "// Max number of bytes which will be uploaded at a time.\n",
              "const MAX_PAYLOAD_SIZE = 100 * 1024;\n",
              "\n",
              "function _uploadFiles(inputId, outputId) {\n",
              "  const steps = uploadFilesStep(inputId, outputId);\n",
              "  const outputElement = document.getElementById(outputId);\n",
              "  // Cache steps on the outputElement to make it available for the next call\n",
              "  // to uploadFilesContinue from Python.\n",
              "  outputElement.steps = steps;\n",
              "\n",
              "  return _uploadFilesContinue(outputId);\n",
              "}\n",
              "\n",
              "// This is roughly an async generator (not supported in the browser yet),\n",
              "// where there are multiple asynchronous steps and the Python side is going\n",
              "// to poll for completion of each step.\n",
              "// This uses a Promise to block the python side on completion of each step,\n",
              "// then passes the result of the previous step as the input to the next step.\n",
              "function _uploadFilesContinue(outputId) {\n",
              "  const outputElement = document.getElementById(outputId);\n",
              "  const steps = outputElement.steps;\n",
              "\n",
              "  const next = steps.next(outputElement.lastPromiseValue);\n",
              "  return Promise.resolve(next.value.promise).then((value) => {\n",
              "    // Cache the last promise value to make it available to the next\n",
              "    // step of the generator.\n",
              "    outputElement.lastPromiseValue = value;\n",
              "    return next.value.response;\n",
              "  });\n",
              "}\n",
              "\n",
              "/**\n",
              " * Generator function which is called between each async step of the upload\n",
              " * process.\n",
              " * @param {string} inputId Element ID of the input file picker element.\n",
              " * @param {string} outputId Element ID of the output display.\n",
              " * @return {!Iterable<!Object>} Iterable of next steps.\n",
              " */\n",
              "function* uploadFilesStep(inputId, outputId) {\n",
              "  const inputElement = document.getElementById(inputId);\n",
              "  inputElement.disabled = false;\n",
              "\n",
              "  const outputElement = document.getElementById(outputId);\n",
              "  outputElement.innerHTML = '';\n",
              "\n",
              "  const pickedPromise = new Promise((resolve) => {\n",
              "    inputElement.addEventListener('change', (e) => {\n",
              "      resolve(e.target.files);\n",
              "    });\n",
              "  });\n",
              "\n",
              "  const cancel = document.createElement('button');\n",
              "  inputElement.parentElement.appendChild(cancel);\n",
              "  cancel.textContent = 'Cancel upload';\n",
              "  const cancelPromise = new Promise((resolve) => {\n",
              "    cancel.onclick = () => {\n",
              "      resolve(null);\n",
              "    };\n",
              "  });\n",
              "\n",
              "  // Wait for the user to pick the files.\n",
              "  const files = yield {\n",
              "    promise: Promise.race([pickedPromise, cancelPromise]),\n",
              "    response: {\n",
              "      action: 'starting',\n",
              "    }\n",
              "  };\n",
              "\n",
              "  cancel.remove();\n",
              "\n",
              "  // Disable the input element since further picks are not allowed.\n",
              "  inputElement.disabled = true;\n",
              "\n",
              "  if (!files) {\n",
              "    return {\n",
              "      response: {\n",
              "        action: 'complete',\n",
              "      }\n",
              "    };\n",
              "  }\n",
              "\n",
              "  for (const file of files) {\n",
              "    const li = document.createElement('li');\n",
              "    li.append(span(file.name, {fontWeight: 'bold'}));\n",
              "    li.append(span(\n",
              "        `(${file.type || 'n/a'}) - ${file.size} bytes, ` +\n",
              "        `last modified: ${\n",
              "            file.lastModifiedDate ? file.lastModifiedDate.toLocaleDateString() :\n",
              "                                    'n/a'} - `));\n",
              "    const percent = span('0% done');\n",
              "    li.appendChild(percent);\n",
              "\n",
              "    outputElement.appendChild(li);\n",
              "\n",
              "    const fileDataPromise = new Promise((resolve) => {\n",
              "      const reader = new FileReader();\n",
              "      reader.onload = (e) => {\n",
              "        resolve(e.target.result);\n",
              "      };\n",
              "      reader.readAsArrayBuffer(file);\n",
              "    });\n",
              "    // Wait for the data to be ready.\n",
              "    let fileData = yield {\n",
              "      promise: fileDataPromise,\n",
              "      response: {\n",
              "        action: 'continue',\n",
              "      }\n",
              "    };\n",
              "\n",
              "    // Use a chunked sending to avoid message size limits. See b/62115660.\n",
              "    let position = 0;\n",
              "    do {\n",
              "      const length = Math.min(fileData.byteLength - position, MAX_PAYLOAD_SIZE);\n",
              "      const chunk = new Uint8Array(fileData, position, length);\n",
              "      position += length;\n",
              "\n",
              "      const base64 = btoa(String.fromCharCode.apply(null, chunk));\n",
              "      yield {\n",
              "        response: {\n",
              "          action: 'append',\n",
              "          file: file.name,\n",
              "          data: base64,\n",
              "        },\n",
              "      };\n",
              "\n",
              "      let percentDone = fileData.byteLength === 0 ?\n",
              "          100 :\n",
              "          Math.round((position / fileData.byteLength) * 100);\n",
              "      percent.textContent = `${percentDone}% done`;\n",
              "\n",
              "    } while (position < fileData.byteLength);\n",
              "  }\n",
              "\n",
              "  // All done.\n",
              "  yield {\n",
              "    response: {\n",
              "      action: 'complete',\n",
              "    }\n",
              "  };\n",
              "}\n",
              "\n",
              "scope.google = scope.google || {};\n",
              "scope.google.colab = scope.google.colab || {};\n",
              "scope.google.colab._files = {\n",
              "  _uploadFiles,\n",
              "  _uploadFilesContinue,\n",
              "};\n",
              "})(self);\n",
              "</script> "
            ]
          },
          "metadata": {}
        },
        {
          "output_type": "stream",
          "name": "stdout",
          "text": [
            "Saving kaggle.json to kaggle (3).json\n"
          ]
        }
      ],
      "source": [
        "from google.colab import files\n",
        "\n",
        "uploaded = files.upload()"
      ]
    },
    {
      "cell_type": "code",
      "execution_count": 2,
      "metadata": {
        "id": "VuS4ui4aGCVx"
      },
      "outputs": [],
      "source": [
        "# ! pip install kaggle"
      ]
    },
    {
      "cell_type": "code",
      "execution_count": 2,
      "metadata": {
        "id": "8I_iZoUzH38U",
        "colab": {
          "base_uri": "https://localhost:8080/"
        },
        "outputId": "8c759de6-eb83-487c-e5fc-b4de31d57d3c"
      },
      "outputs": [
        {
          "output_type": "stream",
          "name": "stdout",
          "text": [
            "mkdir: cannot create directory ‘/root/.kaggle’: File exists\n"
          ]
        }
      ],
      "source": [
        "! mkdir ~/.kaggle"
      ]
    },
    {
      "cell_type": "code",
      "execution_count": 3,
      "metadata": {
        "id": "gkRQ_qgiH39z"
      },
      "outputs": [],
      "source": [
        "! cp kaggle.json ~/.kaggle/"
      ]
    },
    {
      "cell_type": "code",
      "execution_count": 4,
      "metadata": {
        "id": "pHskalMHmOnN"
      },
      "outputs": [],
      "source": [
        "! chmod 600 ~/.kaggle/kaggle.json"
      ]
    },
    {
      "cell_type": "code",
      "execution_count": 5,
      "metadata": {
        "colab": {
          "base_uri": "https://localhost:8080/"
        },
        "id": "9Gdks8Sxnagw",
        "outputId": "a62cbed6-5600-41df-ac45-7f520c60cf4a"
      },
      "outputs": [
        {
          "output_type": "stream",
          "name": "stdout",
          "text": [
            "instagram_locations.csv.zip: Skipping, found more recently modified local copy (use --force to force download)\n",
            "instagram_posts.csv.zip: Skipping, found more recently modified local copy (use --force to force download)\n",
            "instagram_profiles.csv.zip: Skipping, found more recently modified local copy (use --force to force download)\n"
          ]
        }
      ],
      "source": [
        "! kaggle datasets download -d shmalex/instagram-dataset -f instagram_locations.csv\n",
        "! kaggle datasets download -d shmalex/instagram-dataset -f instagram_posts.csv\n",
        "! kaggle datasets download -d shmalex/instagram-dataset -f instagram_profiles.csv"
      ]
    },
    {
      "cell_type": "code",
      "execution_count": 6,
      "metadata": {
        "id": "MhBEqOL9qWOC",
        "colab": {
          "base_uri": "https://localhost:8080/"
        },
        "outputId": "6ff71339-9d5e-45f8-ed84-9ed0f36e9de2"
      },
      "outputs": [
        {
          "output_type": "stream",
          "name": "stdout",
          "text": [
            "Archive:  instagram_locations.csv.zip\n",
            "replace instagram_locations.csv? [y]es, [n]o, [A]ll, [N]one, [r]ename: y\n",
            "  inflating: instagram_locations.csv  \n",
            "Archive:  instagram_profiles.csv.zip\n",
            "replace instagram_profiles.csv? [y]es, [n]o, [A]ll, [N]one, [r]ename: y\n",
            "  inflating: instagram_profiles.csv  \n",
            "Archive:  instagram_posts.csv.zip\n",
            "replace instagram_posts.csv? [y]es, [n]o, [A]ll, [N]one, [r]ename: y\n",
            "  inflating: instagram_posts.csv     \n"
          ]
        }
      ],
      "source": [
        "! unzip instagram_locations.csv.zip\n",
        "! unzip instagram_profiles.csv.zip\n",
        "! unzip instagram_posts.csv.zip"
      ]
    },
    {
      "cell_type": "code",
      "execution_count": 7,
      "metadata": {
        "id": "Qn8IBoB_J0bo"
      },
      "outputs": [],
      "source": [
        "import pandas as pd\n",
        "import scipy\n",
        "import numpy as np\n",
        "import tqdm\n",
        "import matplotlib.pyplot as plt\n",
        "import seaborn as sns\n",
        "import random\n",
        "from datetime import datetime"
      ]
    },
    {
      "cell_type": "code",
      "execution_count": 9,
      "metadata": {
        "id": "-CEATUNomUvM"
      },
      "outputs": [],
      "source": [
        "import pandas as pd\n",
        "cols_locations = ['id', 'name', 'city']\n",
        "cols_profiles = ['profile_id', 'followers', 'n_posts', 'profile_name']\n",
        "cols_posts = ['profile_id', 'location_id', 'post_type', 'numbr_likes', 'number_comments', 'cts']\n",
        "df_locations = pd.read_csv('instagram_locations.csv', sep='\\t', usecols = cols_locations)   \n",
        "df_profiles = pd.read_csv('instagram_profiles.csv', sep='\\t', usecols = cols_profiles)        \n",
        "df_posts = pd.read_csv('instagram_posts.csv', sep='\\t', nrows=None, usecols=cols_posts)"
      ]
    },
    {
      "cell_type": "markdown",
      "source": [
        "### Plot the top 10 most popular users in terms of followers and their number of posts."
      ],
      "metadata": {
        "id": "-qs4IT7upV7x"
      }
    },
    {
      "cell_type": "code",
      "source": [
        "#extract top 10 ten users\n",
        "top_10 = df_profiles.sort_values(by = 'followers', ascending=False).head(10)\n",
        "top_10_profile_id = np.array(list(map(int, top_10['profile_id'].values)))\n",
        "print(*df_profiles[df_profiles['profile_id'].isin(top_10_profile_id)]['profile_name'].values, sep = '\\n' )"
      ],
      "metadata": {
        "colab": {
          "base_uri": "https://localhost:8080/"
        },
        "id": "I70cbDhsk9dw",
        "outputId": "33883754-54eb-454e-e0c3-adde0d633c6b"
      },
      "execution_count": 10,
      "outputs": [
        {
          "output_type": "stream",
          "name": "stdout",
          "text": [
            "hm\n",
            "louisvuitton\n",
            "danbilzerian\n",
            "akshaykumar\n",
            "buzzfeedtasty\n",
            "victoriassecret\n",
            "andresiniesta8\n",
            "instagram\n",
            "nba\n",
            "princessyahrini\n"
          ]
        }
      ]
    },
    {
      "cell_type": "code",
      "source": [
        "# we use the log to scale the x axis in order to make the plot more clear (there is a huge gap between the first three profiles and the other 7)\n",
        "x = np.log(top_10['followers'].values)\n",
        "y = top_10['n_posts'].values\n",
        "\n",
        "plt.figure(figsize=(15,5))\n",
        "plt.plot(x,y, 'o-')\n",
        "plt.xlabel('Followers(milions)')\n",
        "plt.ylabel('Posts')"
      ],
      "metadata": {
        "colab": {
          "base_uri": "https://localhost:8080/",
          "height": 353
        },
        "id": "VzJIz1FhiJ-S",
        "outputId": "3fab6288-d5cc-4220-b1a1-6b0b77127a2a"
      },
      "execution_count": 11,
      "outputs": [
        {
          "output_type": "execute_result",
          "data": {
            "text/plain": [
              "Text(0, 0.5, 'Posts')"
            ]
          },
          "metadata": {},
          "execution_count": 11
        },
        {
          "output_type": "display_data",
          "data": {
            "text/plain": [
              "<Figure size 1080x360 with 1 Axes>"
            ],
            "image/png": "[encoded data removed]"
          },
          "metadata": {
            "needs_background": "light"
          }
        }
      ]
    },
    {
      "cell_type": "markdown",
      "source": [
        "Plot without the last two elements to better visualize the trend"
      ],
      "metadata": {
        "id": "4MjJ8nG4td5X"
      }
    },
    {
      "cell_type": "code",
      "source": [
        "x = top_10['followers'].values[2:]\n",
        "y = top_10['n_posts'].values[2:]\n",
        "\n",
        "plt.figure(figsize=(15,5))\n",
        "plt.plot(x,y, 'o-')\n",
        "plt.xlabel('Followers(milions)')\n",
        "plt.ylabel('Posts')"
      ],
      "metadata": {
        "colab": {
          "base_uri": "https://localhost:8080/",
          "height": 353
        },
        "id": "bHyGy7cuu_ex",
        "outputId": "c720c4ac-6e7c-4c6f-d891-d240471ce83b"
      },
      "execution_count": 12,
      "outputs": [
        {
          "output_type": "execute_result",
          "data": {
            "text/plain": [
              "Text(0, 0.5, 'Posts')"
            ]
          },
          "metadata": {},
          "execution_count": 12
        },
        {
          "output_type": "display_data",
          "data": {
            "text/plain": [
              "<Figure size 1080x360 with 1 Axes>"
            ],
            "image/png": "[encoded data removed]"
          },
          "metadata": {
            "needs_background": "light"
          }
        }
      ]
    },
    {
      "cell_type": "markdown",
      "source": [
        "It seems that there is some correlation between followers and posts, at least for these top profiles. The more the followers the more the posts, however this is not always the case, because the number of posts is something strongly dependent on the type of profile."
      ],
      "metadata": {
        "id": "PjgPilNJv0jC"
      }
    },
    {
      "cell_type": "markdown",
      "source": [
        "### Who is the most influential user?"
      ],
      "metadata": {
        "id": "H5_YWEzKpZc9"
      }
    },
    {
      "cell_type": "code",
      "source": [
        "print(top_10.head(1)['profile_name'].values)"
      ],
      "metadata": {
        "colab": {
          "base_uri": "https://localhost:8080/"
        },
        "id": "rvurhzr_iKYu",
        "outputId": "7174c067-70a1-4733-ea36-47de9a7518ad"
      },
      "execution_count": 13,
      "outputs": [
        {
          "output_type": "stream",
          "name": "stdout",
          "text": [
            "['instagram']\n"
          ]
        }
      ]
    },
    {
      "cell_type": "markdown",
      "source": [
        "Not surprisingly the most influential user is... the instagram official account :)"
      ],
      "metadata": {
        "id": "SU78TGeQxUno"
      }
    },
    {
      "cell_type": "markdown",
      "source": [
        "### Have they posted anything with tagged locations? Extract the most frequent areas on their posts and plot the number of times each city has been visited."
      ],
      "metadata": {
        "id": "FBle6EKf09_T"
      }
    },
    {
      "cell_type": "code",
      "source": [],
      "metadata": {
        "id": "QBUfi9Jv1BN_"
      },
      "execution_count": 13,
      "outputs": []
    },
    {
      "cell_type": "code",
      "source": [
        "# select all the locations in the posts of the top 10 users\n",
        "top_10_locations = df_posts[df_posts['profile_id'].isin(top_10_profile_id)].values[:,1] # location id\n",
        "# remove NaN\n",
        "top_10_locations = top_10_locations[~pd.isnull(top_10_locations)] "
      ],
      "metadata": {
        "id": "5ZQmmh7UTNk-"
      },
      "execution_count": 14,
      "outputs": []
    },
    {
      "cell_type": "code",
      "source": [
        "#extract frequences\n",
        "areas_frequences = df_locations[df_locations['id'].isin(top_10_locations)]['name'].dropna().value_counts()\n",
        "areas_frequences.head(10)"
      ],
      "metadata": {
        "colab": {
          "base_uri": "https://localhost:8080/"
        },
        "id": "hBJPTvoLUCgf",
        "outputId": "8091c3a7-86af-4180-dcc8-e93f6a8c2b63"
      },
      "execution_count": 15,
      "outputs": [
        {
          "output_type": "execute_result",
          "data": {
            "text/plain": [
              "Victoria's Secret                                       4\n",
              "InfoCision Stadium–Summa Field                          1\n",
              "Long Chim Singapore                                     1\n",
              "Hadleigh Park                                           1\n",
              "Staten Island Boat Graveyard                            1\n",
              "Brodie Castle                                           1\n",
              "Hollywood United Methodist Church - Hollywood Campus    1\n",
              "Exuma, The Bahamas                                      1\n",
              "Universiteitstheater Amsterdam                          1\n",
              "Beany Green Coffee                                      1\n",
              "Name: name, dtype: int64"
            ]
          },
          "metadata": {},
          "execution_count": 15
        }
      ]
    },
    {
      "cell_type": "markdown",
      "source": [
        "There is no particular frequent areas, as we can see all the places have frequence 1, except from Victoria's Secret, but this is due to the fact that one of the top 10 profile is indeed Victoria's Secret."
      ],
      "metadata": {
        "id": "_T45r-Gpyg21"
      }
    },
    {
      "cell_type": "code",
      "source": [
        "import re\n",
        "top_10_cities = df_locations[df_locations['id'].isin(top_10_locations)]['city'].dropna()  # RISOLVERE PROBLEMA DELLA PERDITA 105 -> 92\n",
        "cities = top_10_cities.value_counts().index\n",
        "counts = top_10_cities.value_counts().values\n",
        "cities = [re.match(r'^[\\s\\w]*', el).group(0) for el in cities]\n",
        "#collapse cities with count=1 into 'others'\n",
        "counts = counts[counts != 1]\n",
        "#cities = cities[: len(counts)]\n",
        "plt.bar(cities[: len(counts)], counts, width=0.5)\n",
        "plt.xticks(rotation=45)"
      ],
      "metadata": {
        "id": "a4q5OHl8Ukyk",
        "colab": {
          "base_uri": "https://localhost:8080/",
          "height": 322
        },
        "outputId": "b7afcb55-a710-4304-c628-89ca8d422d81"
      },
      "execution_count": 16,
      "outputs": [
        {
          "output_type": "execute_result",
          "data": {
            "text/plain": [
              "([0, 1, 2, 3, 4, 5, 6, 7], <a list of 8 Text major ticklabel objects>)"
            ]
          },
          "metadata": {},
          "execution_count": 16
        },
        {
          "output_type": "display_data",
          "data": {
            "text/plain": [
              "<Figure size 432x288 with 1 Axes>"
            ],
            "image/png": "[encoded data removed]"
          },
          "metadata": {
            "needs_background": "light"
          }
        }
      ]
    },
    {
      "cell_type": "markdown",
      "source": [
        "This are the most frequent cities. We see that New York is on top (as always). \n",
        "There are then other cities that show up in the posts but they appear just once, here's are a bunch of them:"
      ],
      "metadata": {
        "id": "xtwX30fAF1Tl"
      }
    },
    {
      "cell_type": "code",
      "source": [
        "print(*cities[len(counts):len(counts)+10], sep='\\n')"
      ],
      "metadata": {
        "colab": {
          "base_uri": "https://localhost:8080/"
        },
        "id": "DrlO_JQPGSv7",
        "outputId": "757a809b-9d05-496c-a7d7-dbb522324b3a"
      },
      "execution_count": 17,
      "outputs": [
        {
          "output_type": "stream",
          "name": "stdout",
          "text": [
            "Chawton\n",
            "Xiandu\n",
            "Kirkkonummi\n",
            "Krian\n",
            "Akron\n",
            "McLean\n",
            "Hadleigh\n",
            "San Francisco\n",
            "Memphis\n",
            "Pôrto São José\n"
          ]
        }
      ]
    },
    {
      "cell_type": "markdown",
      "source": [
        "How many pictures-only posts have they published? How many reels? (only videos) and how many with both contents? Provide the number as percentages and interpret those figures."
      ],
      "metadata": {
        "id": "o1sv4vE4ye31"
      }
    },
    {
      "cell_type": "code",
      "source": [
        "#top 10 users\n",
        "df_posts_restricted = df_posts[df_posts['profile_id'].isin(top_10_profile_id)]\n",
        "pic_vid_both_counts = df_posts_restricted['post_type'].value_counts()\n",
        "display = pd.DataFrame({'': [pic_vid_both_counts.values[0], pic_vid_both_counts.values[1]]},index = ['Pictures','Videos'])\n",
        "#display.plot.pie(y='', figsize=(5,5), title='Top users', autopct='%1.1f%%')\n",
        "#all users\n",
        "pic_vid_both_counts2 = df_posts['post_type'].value_counts()\n",
        "display_all = pd.DataFrame({'': [pic_vid_both_counts2.values[0], pic_vid_both_counts2.values[1]]},index = ['Pictures','Videos'])\n",
        "#display_all.plot.pie(y='', figsize=(5,5), title='Top users', autopct='%1.1f%%')\n",
        "\n",
        "fig, axes = plt.subplots(nrows=1, ncols=2, figsize=(10,15))\n",
        "display.plot.pie(y='', figsize=(10,10), title='Top users', autopct='%1.1f%%', ax=axes[0])\n",
        "display_all.plot.pie(y='', figsize=(5,5), title='All users', autopct='%1.1f%%', ax=axes[1])\n",
        "\n"
      ],
      "metadata": {
        "colab": {
          "base_uri": "https://localhost:8080/",
          "height": 191
        },
        "id": "JhHG_DVGW4aI",
        "outputId": "71024ad8-1802-4843-82ce-29ac30eddbba"
      },
      "execution_count": 18,
      "outputs": [
        {
          "output_type": "execute_result",
          "data": {
            "text/plain": [
              "<matplotlib.axes._subplots.AxesSubplot at 0x7f75fc875b50>"
            ]
          },
          "metadata": {},
          "execution_count": 18
        },
        {
          "output_type": "display_data",
          "data": {
            "text/plain": [
              "<Figure size 360x360 with 2 Axes>"
            ],
            "image/png": "[encoded data removed]"
          },
          "metadata": {}
        }
      ]
    },
    {
      "cell_type": "markdown",
      "source": [
        "We omitted the post with both contents because it is 0% for Top users and 0.1% for All users. \\\\\n",
        "As we can expect the vast majority of posts are pictures, and it's because pictures are easier to post, catchier and more visual impacting. \n",
        "There is a discrepancy though between top and all users, indeed top users tend to post more videos. This can be explained as follows: in the years the dataset was collected the reels were not a popular content type as pictures (today those percentages would be much less unbalanced) so it is evident that top users tend to experiment more on new features available on the platform than the average user."
      ],
      "metadata": {
        "id": "m53dCKKv75gg"
      }
    },
    {
      "cell_type": "code",
      "source": [
        "\n",
        "pictures_posts = df_posts_restricted[df_posts_restricted['post_type'] == 1][['numbr_likes', 'number_comments']]\n",
        "video_posts = df_posts_restricted[df_posts_restricted['post_type'] == 2][['numbr_likes', 'number_comments']]\n",
        "\n",
        "display = pd.DataFrame({'' : ['pictures', 'videos'],\n",
        "                       'likes':[int(pictures_posts['numbr_likes'].mean()), int(video_posts['numbr_likes'].mean())],\n",
        "                       'comments':[int(pictures_posts['number_comments'].mean()), int(video_posts['number_comments'].mean())]})\n",
        "\n",
        "display.head()"
      ],
      "metadata": {
        "id": "VzXasQ6eDiMW",
        "colab": {
          "base_uri": "https://localhost:8080/",
          "height": 112
        },
        "outputId": "b12b61f5-79ca-4984-d3a1-d39d09dd0c58"
      },
      "execution_count": 19,
      "outputs": [
        {
          "output_type": "execute_result",
          "data": {
            "text/plain": [
              "              likes  comments\n",
              "0  pictures  541294      3882\n",
              "1    videos  266524      2019"
            ],
            "text/html": [
              "\n",
              "  <div id=\"df-48f3e187-adc5-4f71-b6d9-2ba7fcb2b47d\">\n",
              "    <div class=\"colab-df-container\">\n",
              "      <div>\n",
              "<style scoped>\n",
              "    .dataframe tbody tr th:only-of-type {\n",
              "        vertical-align: middle;\n",
              "    }\n",
              "\n",
              "    .dataframe tbody tr th {\n",
              "        vertical-align: top;\n",
              "    }\n",
              "\n",
              "    .dataframe thead th {\n",
              "        text-align: right;\n",
              "    }\n",
              "</style>\n",
              "<table border=\"1\" class=\"dataframe\">\n",
              "  <thead>\n",
              "    <tr style=\"text-align: right;\">\n",
              "      <th></th>\n",
              "      <th></th>\n",
              "      <th>likes</th>\n",
              "      <th>comments</th>\n",
              "    </tr>\n",
              "  </thead>\n",
              "  <tbody>\n",
              "    <tr>\n",
              "      <th>0</th>\n",
              "      <td>pictures</td>\n",
              "      <td>541294</td>\n",
              "      <td>3882</td>\n",
              "    </tr>\n",
              "    <tr>\n",
              "      <th>1</th>\n",
              "      <td>videos</td>\n",
              "      <td>266524</td>\n",
              "      <td>2019</td>\n",
              "    </tr>\n",
              "  </tbody>\n",
              "</table>\n",
              "</div>\n",
              "      <button class=\"colab-df-convert\" onclick=\"convertToInteractive('df-48f3e187-adc5-4f71-b6d9-2ba7fcb2b47d')\"\n",
              "              title=\"Convert this dataframe to an interactive table.\"\n",
              "              style=\"display:none;\">\n",
              "        \n",
              "  <svg xmlns=\"http://www.w3.org/2000/svg\" height=\"24px\"viewBox=\"0 0 24 24\"\n",
              "       width=\"24px\">\n",
              "    <path d=\"M0 0h24v24H0V0z\" fill=\"none\"/>\n",
              "    <path d=\"M18.56 5.44l.94 2.06.94-2.06 2.06-.94-2.06-.94-.94-2.06-.94 2.06-2.06.94zm-11 1L8.5 8.5l.94-2.06 2.06-.94-2.06-.94L8.5 2.5l-.94 2.06-2.06.94zm10 10l.94 2.06.94-2.06 2.06-.94-2.06-.94-.94-2.06-.94 2.06-2.06.94z\"/><path d=\"M17.41 7.96l-1.37-1.37c-.4-.4-.92-.59-1.43-.59-.52 0-1.04.2-1.43.59L10.3 9.45l-7.72 7.72c-.78.78-.78 2.05 0 2.83L4 21.41c.39.39.9.59 1.41.59.51 0 1.02-.2 1.41-.59l7.78-7.78 2.81-2.81c.8-.78.8-2.07 0-2.86zM5.41 20L4 18.59l7.72-7.72 1.47 1.35L5.41 20z\"/>\n",
              "  </svg>\n",
              "      </button>\n",
              "      \n",
              "  <style>\n",
              "    .colab-df-container {\n",
              "      display:flex;\n",
              "      flex-wrap:wrap;\n",
              "      gap: 12px;\n",
              "    }\n",
              "\n",
              "    .colab-df-convert {\n",
              "      background-color: #E8F0FE;\n",
              "      border: none;\n",
              "      border-radius: 50%;\n",
              "      cursor: pointer;\n",
              "      display: none;\n",
              "      fill: #1967D2;\n",
              "      height: 32px;\n",
              "      padding: 0 0 0 0;\n",
              "      width: 32px;\n",
              "    }\n",
              "\n",
              "    .colab-df-convert:hover {\n",
              "      background-color: #E2EBFA;\n",
              "      box-shadow: 0px 1px 2px rgba(60, 64, 67, 0.3), 0px 1px 3px 1px rgba(60, 64, 67, 0.15);\n",
              "      fill: #174EA6;\n",
              "    }\n",
              "\n",
              "    [theme=dark] .colab-df-convert {\n",
              "      background-color: #3B4455;\n",
              "      fill: #D2E3FC;\n",
              "    }\n",
              "\n",
              "    [theme=dark] .colab-df-convert:hover {\n",
              "      background-color: #434B5C;\n",
              "      box-shadow: 0px 1px 3px 1px rgba(0, 0, 0, 0.15);\n",
              "      filter: drop-shadow(0px 1px 2px rgba(0, 0, 0, 0.3));\n",
              "      fill: #FFFFFF;\n",
              "    }\n",
              "  </style>\n",
              "\n",
              "      <script>\n",
              "        const buttonEl =\n",
              "          document.querySelector('#df-48f3e187-adc5-4f71-b6d9-2ba7fcb2b47d button.colab-df-convert');\n",
              "        buttonEl.style.display =\n",
              "          google.colab.kernel.accessAllowed ? 'block' : 'none';\n",
              "\n",
              "        async function convertToInteractive(key) {\n",
              "          const element = document.querySelector('#df-48f3e187-adc5-4f71-b6d9-2ba7fcb2b47d');\n",
              "          const dataTable =\n",
              "            await google.colab.kernel.invokeFunction('convertToInteractive',\n",
              "                                                     [key], {});\n",
              "          if (!dataTable) return;\n",
              "\n",
              "          const docLinkHtml = 'Like what you see? Visit the ' +\n",
              "            '<a target=\"_blank\" href=https://colab.research.google.com/notebooks/data_table.ipynb>data table notebook</a>'\n",
              "            + ' to learn more about interactive tables.';\n",
              "          element.innerHTML = '';\n",
              "          dataTable['output_type'] = 'display_data';\n",
              "          await google.colab.output.renderOutput(dataTable, element);\n",
              "          const docLink = document.createElement('div');\n",
              "          docLink.innerHTML = docLinkHtml;\n",
              "          element.appendChild(docLink);\n",
              "        }\n",
              "      </script>\n",
              "    </div>\n",
              "  </div>\n",
              "  "
            ]
          },
          "metadata": {},
          "execution_count": 19
        }
      ]
    },
    {
      "cell_type": "markdown",
      "source": [
        "It is clear that pictures are more appriciated by the community, as we said pictures have stronger visual impact than videos. \\\\\n",
        "Let's compare now these numbers with the followers mean of these users."
      ],
      "metadata": {
        "id": "Ap7YPKfXfbgQ"
      }
    },
    {
      "cell_type": "code",
      "source": [
        "print(int(df_profiles[df_profiles['profile_id'].isin(top_10_profile_id)]['followers'].mean()))"
      ],
      "metadata": {
        "id": "Ppiz-BWUgEpn",
        "colab": {
          "base_uri": "https://localhost:8080/"
        },
        "outputId": "a64a9afc-b036-43de-e81f-dfd100049765"
      },
      "execution_count": 20,
      "outputs": [
        {
          "output_type": "stream",
          "name": "stdout",
          "text": [
            "58749283\n"
          ]
        }
      ]
    },
    {
      "cell_type": "markdown",
      "source": [
        "This is a very common thing on almost every platform on the web like Instagram, Facebook, Youtube ecc. Only a very small percentage of followers are actually active and give feedback to the profile contents."
      ],
      "metadata": {
        "id": "AWX3ZkEKhzZ4"
      }
    },
    {
      "cell_type": "markdown",
      "source": [
        "What is the average time (days and minutes) a user lets pass before publishing another post? Plot the top 3 users that publish posts more frequently (calculate the average time that passes between posts), including their amount of followers and following. Provide insights from that chart."
      ],
      "metadata": {
        "id": "Rd139UnbNqN8"
      }
    },
    {
      "cell_type": "code",
      "source": [
        "#we first\n",
        "from datetime import datetime\n",
        "beginning_of_the_day = datetime.strptime('00:00:00', '%H:%M:%S')\n",
        "ranges = ['00:00:00' ,'02:59:59', '05:59:59', '10:59:59', '13:59:59', '16:59:59', '19:59:59', '23:59:59']\n",
        "ranges = [(datetime.strptime(el, '%H:%M:%S') - beginning_of_the_day).total_seconds() for el in ranges]\n",
        "frequences = df_posts.groupby(pd.cut(df_posts.cts.apply(lambda x: (datetime.strptime(x[11:], '%H:%M:%S.000') - \n",
        "                                                                   beginning_of_the_day).total_seconds() if isinstance(x, str) else x), ranges)).mean()\n",
        "fig, axes = plt.subplots(nrows=1, ncols=2, figsize=(15,5))\n",
        "frequences['numbr_likes'].plot.bar(ax=axes[0], rot=45).set_xticklabels(['00-03','03-05','05-11','11-14','14-17','17-20','20-00'])\n",
        "frequences['number_comments'].plot.bar(ax=axes[1], rot=45).set_xticklabels(['00-03','03-05','05-11','11-14','14-17','17-20','20-00'])"
      ],
      "metadata": {
        "colab": {
          "base_uri": "https://localhost:8080/",
          "height": 472
        },
        "id": "6zaIxz9prFhD",
        "outputId": "13657d9d-ed48-42d5-a50b-48668c668922"
      },
      "execution_count": 21,
      "outputs": [
        {
          "output_type": "execute_result",
          "data": {
            "text/plain": [
              "[Text(0, 0, '00-03'),\n",
              " Text(0, 0, '03-05'),\n",
              " Text(0, 0, '05-11'),\n",
              " Text(0, 0, '11-14'),\n",
              " Text(0, 0, '14-17'),\n",
              " Text(0, 0, '17-20'),\n",
              " Text(0, 0, '20-00')]"
            ]
          },
          "metadata": {},
          "execution_count": 21
        },
        {
          "output_type": "display_data",
          "data": {
            "text/plain": [
              "<Figure size 1080x360 with 2 Axes>"
            ],
            "image/png": "[encoded data removed]"
          },
          "metadata": {
            "needs_background": "light"
          }
        }
      ]
    },
    {
      "cell_type": "markdown",
      "source": [],
      "metadata": {
        "id": "ioUx7D4bzmEM"
      }
    },
    {
      "cell_type": "code",
      "source": [
        "#convert date time into seconds for efficiency\n",
        "from datetime import datetime\n",
        "fmt = '%Y-%m-%d %H:%M:%S.000'\n",
        "df_posts.dropna(inplace=True)\n",
        "min_date = df_posts['cts'].min()\n",
        "reference_date = datetime.strptime(min_date, fmt)\n",
        "df_posts['cts'] = df_posts['cts'].apply(lambda x: (datetime.strptime(x, fmt) - reference_date).total_seconds())"
      ],
      "metadata": {
        "id": "5lKqogpm7rgy"
      },
      "execution_count": 22,
      "outputs": []
    },
    {
      "cell_type": "code",
      "source": [
        "# we observe that when computing the \n",
        "means = (df_posts.groupby(['profile_id']).max()['cts'] - \n",
        "         df_posts.groupby(['profile_id']).min()['cts'])/df_posts.groupby(['profile_id']).count()['numbr_likes'].apply(lambda x : x - 1 if x >= 2 else x) \n",
        "most_frequent_profile = means[means != 0].sort_values().head(3)\n",
        "print(most_frequent_profile)"
      ],
      "metadata": {
        "colab": {
          "base_uri": "https://localhost:8080/"
        },
        "id": "pmnKfulZTxs6",
        "outputId": "e404081a-09b1-49f8-c646-bf6a18d76f22"
      },
      "execution_count": 23,
      "outputs": [
        {
          "output_type": "stream",
          "name": "stdout",
          "text": [
            "profile_id\n",
            "1.127936e+07    0.333333\n",
            "1.929792e+09    0.500000\n",
            "8.920183e+09    0.500000\n",
            "dtype: float64\n"
          ]
        }
      ]
    },
    {
      "cell_type": "markdown",
      "source": [
        "The top three have a mean time less than 1 second which can be strange. If we see "
      ],
      "metadata": {
        "id": "7OHGgNoZ1fTz"
      }
    },
    {
      "cell_type": "code",
      "source": [
        "print(df_profiles[df_profiles['profile_id'].isin(most_frequent_profile.index)])"
      ],
      "metadata": {
        "colab": {
          "base_uri": "https://localhost:8080/"
        },
        "id": "xp8epclPwBzw",
        "outputId": "76a0d101-91e6-453d-beca-24797326d63a"
      },
      "execution_count": 24,
      "outputs": [
        {
          "output_type": "stream",
          "name": "stdout",
          "text": [
            "Empty DataFrame\n",
            "Columns: [profile_id, profile_name, followers, n_posts]\n",
            "Index: []\n"
          ]
        }
      ]
    },
    {
      "cell_type": "code",
      "source": [
        "from datetime import timedelta\n",
        "overall_mean = (df_posts.groupby(['profile_id']).max()['cts'] - df_posts.groupby(['profile_id']).min()['cts']).sum()/df_posts.groupby(['profile_id']).count()['location_id'].sum()\n",
        "print(timedelta(overall_mean))"
      ],
      "metadata": {
        "colab": {
          "base_uri": "https://localhost:8080/"
        },
        "id": "Z7CGZQ2MlobK",
        "outputId": "5f2f9f8d-04ac-4538-c294-c7449d741fcc"
      },
      "execution_count": 25,
      "outputs": [
        {
          "output_type": "stream",
          "name": "stdout",
          "text": [
            "2413463 days, 1:39:26.052653\n"
          ]
        }
      ]
    },
    {
      "cell_type": "code",
      "source": [
        "l = [42361942, 8128232, 222026992, 1518481370, 230617661, 355470702, 222580681, 273342922, 335637382, 232070804]\n",
        "df_profiles[df_profiles['profile_id'].isin(l)]"
      ],
      "metadata": {
        "colab": {
          "base_uri": "https://localhost:8080/",
          "height": 206
        },
        "id": "SuK-ny9xTeLV",
        "outputId": "4d0610b2-3e1e-4029-9723-032aeb6c95d0"
      },
      "execution_count": 26,
      "outputs": [
        {
          "output_type": "execute_result",
          "data": {
            "text/plain": [
              "          profile_id           profile_name  followers  n_posts\n",
              "238134   232070804.0                cozeteg   389573.0   5761.0\n",
              "1319263  222580681.0               beltenvy      432.0    490.0\n",
              "2619235  335637382.0  ernestobarajasoficial   323186.0   2892.0\n",
              "3841218  222026992.0            ekadarville    72170.0    419.0\n",
              "4031324    8128232.0          melisaaugusto      957.0   1578.0"
            ],
            "text/html": [
              "\n",
              "  <div id=\"df-de4d16b6-f587-4d7b-b6a3-3c029ef97d42\">\n",
              "    <div class=\"colab-df-container\">\n",
              "      <div>\n",
              "<style scoped>\n",
              "    .dataframe tbody tr th:only-of-type {\n",
              "        vertical-align: middle;\n",
              "    }\n",
              "\n",
              "    .dataframe tbody tr th {\n",
              "        vertical-align: top;\n",
              "    }\n",
              "\n",
              "    .dataframe thead th {\n",
              "        text-align: right;\n",
              "    }\n",
              "</style>\n",
              "<table border=\"1\" class=\"dataframe\">\n",
              "  <thead>\n",
              "    <tr style=\"text-align: right;\">\n",
              "      <th></th>\n",
              "      <th>profile_id</th>\n",
              "      <th>profile_name</th>\n",
              "      <th>followers</th>\n",
              "      <th>n_posts</th>\n",
              "    </tr>\n",
              "  </thead>\n",
              "  <tbody>\n",
              "    <tr>\n",
              "      <th>238134</th>\n",
              "      <td>232070804.0</td>\n",
              "      <td>cozeteg</td>\n",
              "      <td>389573.0</td>\n",
              "      <td>5761.0</td>\n",
              "    </tr>\n",
              "    <tr>\n",
              "      <th>1319263</th>\n",
              "      <td>222580681.0</td>\n",
              "      <td>beltenvy</td>\n",
              "      <td>432.0</td>\n",
              "      <td>490.0</td>\n",
              "    </tr>\n",
              "    <tr>\n",
              "      <th>2619235</th>\n",
              "      <td>335637382.0</td>\n",
              "      <td>ernestobarajasoficial</td>\n",
              "      <td>323186.0</td>\n",
              "      <td>2892.0</td>\n",
              "    </tr>\n",
              "    <tr>\n",
              "      <th>3841218</th>\n",
              "      <td>222026992.0</td>\n",
              "      <td>ekadarville</td>\n",
              "      <td>72170.0</td>\n",
              "      <td>419.0</td>\n",
              "    </tr>\n",
              "    <tr>\n",
              "      <th>4031324</th>\n",
              "      <td>8128232.0</td>\n",
              "      <td>melisaaugusto</td>\n",
              "      <td>957.0</td>\n",
              "      <td>1578.0</td>\n",
              "    </tr>\n",
              "  </tbody>\n",
              "</table>\n",
              "</div>\n",
              "      <button class=\"colab-df-convert\" onclick=\"convertToInteractive('df-de4d16b6-f587-4d7b-b6a3-3c029ef97d42')\"\n",
              "              title=\"Convert this dataframe to an interactive table.\"\n",
              "              style=\"display:none;\">\n",
              "        \n",
              "  <svg xmlns=\"http://www.w3.org/2000/svg\" height=\"24px\"viewBox=\"0 0 24 24\"\n",
              "       width=\"24px\">\n",
              "    <path d=\"M0 0h24v24H0V0z\" fill=\"none\"/>\n",
              "    <path d=\"M18.56 5.44l.94 2.06.94-2.06 2.06-.94-2.06-.94-.94-2.06-.94 2.06-2.06.94zm-11 1L8.5 8.5l.94-2.06 2.06-.94-2.06-.94L8.5 2.5l-.94 2.06-2.06.94zm10 10l.94 2.06.94-2.06 2.06-.94-2.06-.94-.94-2.06-.94 2.06-2.06.94z\"/><path d=\"M17.41 7.96l-1.37-1.37c-.4-.4-.92-.59-1.43-.59-.52 0-1.04.2-1.43.59L10.3 9.45l-7.72 7.72c-.78.78-.78 2.05 0 2.83L4 21.41c.39.39.9.59 1.41.59.51 0 1.02-.2 1.41-.59l7.78-7.78 2.81-2.81c.8-.78.8-2.07 0-2.86zM5.41 20L4 18.59l7.72-7.72 1.47 1.35L5.41 20z\"/>\n",
              "  </svg>\n",
              "      </button>\n",
              "      \n",
              "  <style>\n",
              "    .colab-df-container {\n",
              "      display:flex;\n",
              "      flex-wrap:wrap;\n",
              "      gap: 12px;\n",
              "    }\n",
              "\n",
              "    .colab-df-convert {\n",
              "      background-color: #E8F0FE;\n",
              "      border: none;\n",
              "      border-radius: 50%;\n",
              "      cursor: pointer;\n",
              "      display: none;\n",
              "      fill: #1967D2;\n",
              "      height: 32px;\n",
              "      padding: 0 0 0 0;\n",
              "      width: 32px;\n",
              "    }\n",
              "\n",
              "    .colab-df-convert:hover {\n",
              "      background-color: #E2EBFA;\n",
              "      box-shadow: 0px 1px 2px rgba(60, 64, 67, 0.3), 0px 1px 3px 1px rgba(60, 64, 67, 0.15);\n",
              "      fill: #174EA6;\n",
              "    }\n",
              "\n",
              "    [theme=dark] .colab-df-convert {\n",
              "      background-color: #3B4455;\n",
              "      fill: #D2E3FC;\n",
              "    }\n",
              "\n",
              "    [theme=dark] .colab-df-convert:hover {\n",
              "      background-color: #434B5C;\n",
              "      box-shadow: 0px 1px 3px 1px rgba(0, 0, 0, 0.15);\n",
              "      filter: drop-shadow(0px 1px 2px rgba(0, 0, 0, 0.3));\n",
              "      fill: #FFFFFF;\n",
              "    }\n",
              "  </style>\n",
              "\n",
              "      <script>\n",
              "        const buttonEl =\n",
              "          document.querySelector('#df-de4d16b6-f587-4d7b-b6a3-3c029ef97d42 button.colab-df-convert');\n",
              "        buttonEl.style.display =\n",
              "          google.colab.kernel.accessAllowed ? 'block' : 'none';\n",
              "\n",
              "        async function convertToInteractive(key) {\n",
              "          const element = document.querySelector('#df-de4d16b6-f587-4d7b-b6a3-3c029ef97d42');\n",
              "          const dataTable =\n",
              "            await google.colab.kernel.invokeFunction('convertToInteractive',\n",
              "                                                     [key], {});\n",
              "          if (!dataTable) return;\n",
              "\n",
              "          const docLinkHtml = 'Like what you see? Visit the ' +\n",
              "            '<a target=\"_blank\" href=https://colab.research.google.com/notebooks/data_table.ipynb>data table notebook</a>'\n",
              "            + ' to learn more about interactive tables.';\n",
              "          element.innerHTML = '';\n",
              "          dataTable['output_type'] = 'display_data';\n",
              "          await google.colab.output.renderOutput(dataTable, element);\n",
              "          const docLink = document.createElement('div');\n",
              "          docLink.innerHTML = docLinkHtml;\n",
              "          element.appendChild(docLink);\n",
              "        }\n",
              "      </script>\n",
              "    </div>\n",
              "  </div>\n",
              "  "
            ]
          },
          "metadata": {},
          "execution_count": 26
        }
      ]
    },
    {
      "cell_type": "markdown",
      "source": [
        "So on average the time that pass between two consecutive posts of the same user is 1 hour and 40 minutes."
      ],
      "metadata": {
        "id": "N7-Frjjh-Tys"
      }
    },
    {
      "cell_type": "markdown",
      "metadata": {
        "id": "66ee86f0-5e69-4f9a-9a17-f85ce88c9e16"
      },
      "source": [
        "# RQ7 #"
      ]
    },
    {
      "cell_type": "markdown",
      "metadata": {
        "id": "5eb0e192-4d6e-4d36-984e-1a6276422a17"
      },
      "source": [
        "## a) What's the probability that a post receives more than 20% \"likes\" of the number of followers a user has? ##"
      ]
    },
    {
      "cell_type": "code",
      "source": [
        "import sys\n",
        "sys.modules[__name__].__dict__.clear()"
      ],
      "metadata": {
        "id": "CQZVdlg2t4ox"
      },
      "execution_count": null,
      "outputs": []
    },
    {
      "cell_type": "code",
      "source": [
        "#del df_profiles\n",
        "#del df_posts\n",
        "#del df_locations\n",
        "cols_profiles = ['profile_id', 'followers', 'n_posts', 'profile_name']\n",
        "cols_posts = ['profile_id', 'location_id', 'numbr_likes', 'number_comments', 'cts']\n",
        "df_profiles = pd.read_csv('instagram_profiles.csv', sep='\\t', usecols = cols_profiles)        \n",
        "df_posts = pd.read_csv('instagram_posts.csv', sep='\\t', nrows=None, usecols=cols_posts)"
      ],
      "metadata": {
        "id": "Lw9Trw4TqWiv"
      },
      "execution_count": 8,
      "outputs": []
    },
    {
      "cell_type": "code",
      "execution_count": 9,
      "metadata": {
        "id": "c5116c04-3bd4-46c1-b66f-7cc24e9988d3"
      },
      "outputs": [],
      "source": [
        "data_profiles2 = df_profiles[['profile_id', 'followers']] # we selected only two columns from profiles that are profile_id\n",
        "                                                            # and followers"
      ]
    },
    {
      "cell_type": "code",
      "execution_count": 10,
      "metadata": {
        "id": "2631aa3e-3be3-40b8-af45-37d2d14c3153"
      },
      "outputs": [],
      "source": [
        "data_profiles2 = data_profiles2.dropna(axis = 0, how = 'any') # we remove all the rows of the dataset that show a missing value\n",
        "                                                              # of profile_id or followers"
      ]
    },
    {
      "cell_type": "code",
      "execution_count": 11,
      "metadata": {
        "id": "440c4847-482c-4b2b-9d0f-126cd08444fb"
      },
      "outputs": [],
      "source": [
        "data_posts2 = df_posts[['profile_id', 'numbr_likes']]  # we selected only two columns from posts that are profile_id\n",
        "                                                         # and numbr_likes"
      ]
    },
    {
      "cell_type": "code",
      "execution_count": 12,
      "metadata": {
        "id": "92d3e250-41fd-4175-a0b2-7efba64dc947"
      },
      "outputs": [],
      "source": [
        "data_posts2 = data_posts2.dropna(axis = 0, how = 'any')  # we remove all the rows of the dataset that show a missing value\n",
        "                                                         # of profile_id or numbr_likes"
      ]
    },
    {
      "cell_type": "code",
      "execution_count": 13,
      "metadata": {
        "id": "7b23f79f-b121-4b7d-adbd-1061421d1566",
        "outputId": "3e8f39ce-689d-4060-beed-ba738876d8d0",
        "colab": {
          "base_uri": "https://localhost:8080/"
        }
      },
      "outputs": [
        {
          "output_type": "stream",
          "name": "stdout",
          "text": [
            "(40126905, 2)\n",
            "(3447698, 2)\n"
          ]
        }
      ],
      "source": [
        "print(data_posts2.shape)\n",
        "print(data_profiles2.shape)"
      ]
    },
    {
      "cell_type": "code",
      "execution_count": 14,
      "metadata": {
        "id": "49349fcd-1770-45d1-a0b0-2545cf886dce"
      },
      "outputs": [],
      "source": [
        "merge = pd.merge(data_profiles2, data_posts2, on = \"profile_id\" )  # we do the merge between the two set on the variable profile_id\n",
        "                                                                   # because we want to use only the profiles that have a match in both of dataset"
      ]
    },
    {
      "cell_type": "code",
      "source": [
        "prob = (merge['numbr_likes'].gt(merge['followers'].apply(lambda x: x*.2))).sum()/merge.shape[0]\n",
        "print(prob)"
      ],
      "metadata": {
        "colab": {
          "base_uri": "https://localhost:8080/"
        },
        "id": "LEnoZGhhnlwQ",
        "outputId": "8a409ccb-8ad8-42e9-cc2f-3900ed5b8d76"
      },
      "execution_count": 15,
      "outputs": [
        {
          "output_type": "stream",
          "name": "stdout",
          "text": [
            "0.15716325833178058\n"
          ]
        }
      ]
    },
    {
      "cell_type": "markdown",
      "metadata": {
        "id": "3065c69e-eec8-48a1-a4ef-458b6abb3c69"
      },
      "source": [
        "We calculated the number of posts that receives more than 0.20 % likes of the number of followers and we divided it by the total number of posts to get the probability"
      ]
    },
    {
      "cell_type": "markdown",
      "metadata": {
        "id": "49a82475-cc56-4810-8caf-f3a117cc6bb3"
      },
      "source": [
        "The probability is almost 0.1572 very low, but it makes sense because people, in general, have more followers than the number of likes of every post."
      ]
    },
    {
      "cell_type": "markdown",
      "metadata": {
        "id": "b6e1b39a-695b-4c47-a287-ee435726c187"
      },
      "source": [
        "## b) Do users usually return to locations? Extract the probability that a user returns to a site after having posted it in the past. Does that probability make sense to you? Explain why or why not. ##"
      ]
    },
    {
      "cell_type": "code",
      "execution_count": 21,
      "metadata": {
        "id": "1015c205-e0aa-4c3a-90e4-6a8df7fe4b56"
      },
      "outputs": [],
      "source": [
        "data_posts_loc = df_posts[['profile_id','location_id']].dropna(axis = 0, how = 'any')  \n",
        "# # we selected only two columns from posts that are profile_id\n",
        "# # and location_id\n"
      ]
    },
    {
      "cell_type": "code",
      "execution_count": 22,
      "metadata": {
        "id": "fa1cc6bf-0063-4266-9c1d-89da9003728f",
        "colab": {
          "base_uri": "https://localhost:8080/",
          "height": 345
        },
        "outputId": "e28f1069-b209-42b5-ff69-c8e58afbfcf9"
      },
      "outputs": [
        {
          "output_type": "error",
          "ename": "KeyboardInterrupt",
          "evalue": "ignored",
          "traceback": [
            "\u001b[0;31m---------------------------------------------------------------------------\u001b[0m",
            "\u001b[0;31mKeyboardInterrupt\u001b[0m                         Traceback (most recent call last)",
            "\u001b[0;32m<ipython-input-22-9e7296870666>\u001b[0m in \u001b[0;36m<module>\u001b[0;34m\u001b[0m\n\u001b[0;32m----> 1\u001b[0;31m \u001b[0ms\u001b[0m \u001b[0;34m=\u001b[0m \u001b[0mnp\u001b[0m\u001b[0;34m.\u001b[0m\u001b[0msum\u001b[0m\u001b[0;34m(\u001b[0m\u001b[0;34m(\u001b[0m\u001b[0mdf_posts\u001b[0m\u001b[0;34m[\u001b[0m\u001b[0;34m[\u001b[0m\u001b[0;34m'profile_id'\u001b[0m\u001b[0;34m,\u001b[0m\u001b[0;34m'location_id'\u001b[0m\u001b[0;34m]\u001b[0m\u001b[0;34m]\u001b[0m\u001b[0;34m.\u001b[0m\u001b[0mdropna\u001b[0m\u001b[0;34m(\u001b[0m\u001b[0maxis\u001b[0m \u001b[0;34m=\u001b[0m \u001b[0;36m0\u001b[0m\u001b[0;34m,\u001b[0m \u001b[0mhow\u001b[0m \u001b[0;34m=\u001b[0m \u001b[0;34m'any'\u001b[0m\u001b[0;34m)\u001b[0m\u001b[0;34m.\u001b[0m\u001b[0mgroupby\u001b[0m\u001b[0;34m(\u001b[0m\u001b[0;34m[\u001b[0m\u001b[0;34m'profile_id'\u001b[0m\u001b[0;34m,\u001b[0m\u001b[0;34m'location_id'\u001b[0m\u001b[0;34m]\u001b[0m\u001b[0;34m)\u001b[0m\u001b[0;34m.\u001b[0m\u001b[0msize\u001b[0m\u001b[0;34m(\u001b[0m\u001b[0;34m)\u001b[0m \u001b[0;34m>\u001b[0m \u001b[0;36m1\u001b[0m\u001b[0;34m)\u001b[0m\u001b[0;34m)\u001b[0m\u001b[0;34m\u001b[0m\u001b[0;34m\u001b[0m\u001b[0m\n\u001b[0m\u001b[1;32m      2\u001b[0m \u001b[0;31m# we calculated the occurrences of location that are repeated more than one for every profile that means count 1 every time a\u001b[0m\u001b[0;34m\u001b[0m\u001b[0;34m\u001b[0m\u001b[0;34m\u001b[0m\u001b[0m\n\u001b[1;32m      3\u001b[0m \u001b[0;31m# profile publishes a post in a previously posted location.\u001b[0m\u001b[0;34m\u001b[0m\u001b[0;34m\u001b[0m\u001b[0;34m\u001b[0m\u001b[0m\n",
            "\u001b[0;32m/usr/local/lib/python3.7/dist-packages/pandas/core/groupby/groupby.py\u001b[0m in \u001b[0;36msize\u001b[0;34m(self)\u001b[0m\n\u001b[1;32m   1823\u001b[0m             \u001b[0;32mor\u001b[0m \u001b[0ma\u001b[0m \u001b[0mDataFrame\u001b[0m \u001b[0;32mif\u001b[0m \u001b[0mas_index\u001b[0m \u001b[0;32mis\u001b[0m \u001b[0;32mFalse\u001b[0m\u001b[0;34m.\u001b[0m\u001b[0;34m\u001b[0m\u001b[0;34m\u001b[0m\u001b[0m\n\u001b[1;32m   1824\u001b[0m         \"\"\"\n\u001b[0;32m-> 1825\u001b[0;31m         \u001b[0mresult\u001b[0m \u001b[0;34m=\u001b[0m \u001b[0mself\u001b[0m\u001b[0;34m.\u001b[0m\u001b[0mgrouper\u001b[0m\u001b[0;34m.\u001b[0m\u001b[0msize\u001b[0m\u001b[0;34m(\u001b[0m\u001b[0;34m)\u001b[0m\u001b[0;34m\u001b[0m\u001b[0;34m\u001b[0m\u001b[0m\n\u001b[0m\u001b[1;32m   1826\u001b[0m \u001b[0;34m\u001b[0m\u001b[0m\n\u001b[1;32m   1827\u001b[0m         \u001b[0;31m# GH28330 preserve subclassed Series/DataFrames through calls\u001b[0m\u001b[0;34m\u001b[0m\u001b[0;34m\u001b[0m\u001b[0;34m\u001b[0m\u001b[0m\n",
            "\u001b[0;32m/usr/local/lib/python3.7/dist-packages/pandas/core/groupby/ops.py\u001b[0m in \u001b[0;36msize\u001b[0;34m(self)\u001b[0m\n\u001b[1;32m    884\u001b[0m         \u001b[0mCompute\u001b[0m \u001b[0mgroup\u001b[0m \u001b[0msizes\u001b[0m\u001b[0;34m.\u001b[0m\u001b[0;34m\u001b[0m\u001b[0;34m\u001b[0m\u001b[0m\n\u001b[1;32m    885\u001b[0m         \"\"\"\n\u001b[0;32m--> 886\u001b[0;31m         \u001b[0mids\u001b[0m\u001b[0;34m,\u001b[0m \u001b[0m_\u001b[0m\u001b[0;34m,\u001b[0m \u001b[0mngroups\u001b[0m \u001b[0;34m=\u001b[0m \u001b[0mself\u001b[0m\u001b[0;34m.\u001b[0m\u001b[0mgroup_info\u001b[0m\u001b[0;34m\u001b[0m\u001b[0;34m\u001b[0m\u001b[0m\n\u001b[0m\u001b[1;32m    887\u001b[0m         \u001b[0;32mif\u001b[0m \u001b[0mngroups\u001b[0m\u001b[0;34m:\u001b[0m\u001b[0;34m\u001b[0m\u001b[0;34m\u001b[0m\u001b[0m\n\u001b[1;32m    888\u001b[0m             \u001b[0mout\u001b[0m \u001b[0;34m=\u001b[0m \u001b[0mnp\u001b[0m\u001b[0;34m.\u001b[0m\u001b[0mbincount\u001b[0m\u001b[0;34m(\u001b[0m\u001b[0mids\u001b[0m\u001b[0;34m[\u001b[0m\u001b[0mids\u001b[0m \u001b[0;34m!=\u001b[0m \u001b[0;34m-\u001b[0m\u001b[0;36m1\u001b[0m\u001b[0;34m]\u001b[0m\u001b[0;34m,\u001b[0m \u001b[0mminlength\u001b[0m\u001b[0;34m=\u001b[0m\u001b[0mngroups\u001b[0m\u001b[0;34m)\u001b[0m\u001b[0;34m\u001b[0m\u001b[0;34m\u001b[0m\u001b[0m\n",
            "\u001b[0;32m/usr/local/lib/python3.7/dist-packages/pandas/_libs/properties.pyx\u001b[0m in \u001b[0;36mpandas._libs.properties.CachedProperty.__get__\u001b[0;34m()\u001b[0m\n",
            "\u001b[0;32m/usr/local/lib/python3.7/dist-packages/pandas/core/groupby/ops.py\u001b[0m in \u001b[0;36mgroup_info\u001b[0;34m(self)\u001b[0m\n\u001b[1;32m    909\u001b[0m     \u001b[0;34m@\u001b[0m\u001b[0mcache_readonly\u001b[0m\u001b[0;34m\u001b[0m\u001b[0;34m\u001b[0m\u001b[0m\n\u001b[1;32m    910\u001b[0m     \u001b[0;32mdef\u001b[0m \u001b[0mgroup_info\u001b[0m\u001b[0;34m(\u001b[0m\u001b[0mself\u001b[0m\u001b[0;34m)\u001b[0m\u001b[0;34m:\u001b[0m\u001b[0;34m\u001b[0m\u001b[0;34m\u001b[0m\u001b[0m\n\u001b[0;32m--> 911\u001b[0;31m         \u001b[0mcomp_ids\u001b[0m\u001b[0;34m,\u001b[0m \u001b[0mobs_group_ids\u001b[0m \u001b[0;34m=\u001b[0m \u001b[0mself\u001b[0m\u001b[0;34m.\u001b[0m\u001b[0m_get_compressed_codes\u001b[0m\u001b[0;34m(\u001b[0m\u001b[0;34m)\u001b[0m\u001b[0;34m\u001b[0m\u001b[0;34m\u001b[0m\u001b[0m\n\u001b[0m\u001b[1;32m    912\u001b[0m \u001b[0;34m\u001b[0m\u001b[0m\n\u001b[1;32m    913\u001b[0m         \u001b[0mngroups\u001b[0m \u001b[0;34m=\u001b[0m \u001b[0mlen\u001b[0m\u001b[0;34m(\u001b[0m\u001b[0mobs_group_ids\u001b[0m\u001b[0;34m)\u001b[0m\u001b[0;34m\u001b[0m\u001b[0;34m\u001b[0m\u001b[0m\n",
            "\u001b[0;32m/usr/local/lib/python3.7/dist-packages/pandas/core/groupby/ops.py\u001b[0m in \u001b[0;36m_get_compressed_codes\u001b[0;34m(self)\u001b[0m\n\u001b[1;32m    930\u001b[0m         \u001b[0;32mif\u001b[0m \u001b[0mlen\u001b[0m\u001b[0;34m(\u001b[0m\u001b[0mself\u001b[0m\u001b[0;34m.\u001b[0m\u001b[0mgroupings\u001b[0m\u001b[0;34m)\u001b[0m \u001b[0;34m>\u001b[0m \u001b[0;36m1\u001b[0m\u001b[0;34m:\u001b[0m\u001b[0;34m\u001b[0m\u001b[0;34m\u001b[0m\u001b[0m\n\u001b[1;32m    931\u001b[0m             \u001b[0mgroup_index\u001b[0m \u001b[0;34m=\u001b[0m \u001b[0mget_group_index\u001b[0m\u001b[0;34m(\u001b[0m\u001b[0mself\u001b[0m\u001b[0;34m.\u001b[0m\u001b[0mcodes\u001b[0m\u001b[0;34m,\u001b[0m \u001b[0mself\u001b[0m\u001b[0;34m.\u001b[0m\u001b[0mshape\u001b[0m\u001b[0;34m,\u001b[0m \u001b[0msort\u001b[0m\u001b[0;34m=\u001b[0m\u001b[0;32mTrue\u001b[0m\u001b[0;34m,\u001b[0m \u001b[0mxnull\u001b[0m\u001b[0;34m=\u001b[0m\u001b[0;32mTrue\u001b[0m\u001b[0;34m)\u001b[0m\u001b[0;34m\u001b[0m\u001b[0;34m\u001b[0m\u001b[0m\n\u001b[0;32m--> 932\u001b[0;31m             \u001b[0;32mreturn\u001b[0m \u001b[0mcompress_group_index\u001b[0m\u001b[0;34m(\u001b[0m\u001b[0mgroup_index\u001b[0m\u001b[0;34m,\u001b[0m \u001b[0msort\u001b[0m\u001b[0;34m=\u001b[0m\u001b[0mself\u001b[0m\u001b[0;34m.\u001b[0m\u001b[0m_sort\u001b[0m\u001b[0;34m)\u001b[0m\u001b[0;34m\u001b[0m\u001b[0;34m\u001b[0m\u001b[0m\n\u001b[0m\u001b[1;32m    933\u001b[0m \u001b[0;34m\u001b[0m\u001b[0m\n\u001b[1;32m    934\u001b[0m         \u001b[0mping\u001b[0m \u001b[0;34m=\u001b[0m \u001b[0mself\u001b[0m\u001b[0;34m.\u001b[0m\u001b[0mgroupings\u001b[0m\u001b[0;34m[\u001b[0m\u001b[0;36m0\u001b[0m\u001b[0;34m]\u001b[0m\u001b[0;34m\u001b[0m\u001b[0;34m\u001b[0m\u001b[0m\n",
            "\u001b[0;32m/usr/local/lib/python3.7/dist-packages/pandas/core/sorting.py\u001b[0m in \u001b[0;36mcompress_group_index\u001b[0;34m(group_index, sort)\u001b[0m\n\u001b[1;32m    659\u001b[0m \u001b[0;34m\u001b[0m\u001b[0m\n\u001b[1;32m    660\u001b[0m     \u001b[0;31m# note, group labels come out ascending (ie, 1,2,3 etc)\u001b[0m\u001b[0;34m\u001b[0m\u001b[0;34m\u001b[0m\u001b[0;34m\u001b[0m\u001b[0m\n\u001b[0;32m--> 661\u001b[0;31m     \u001b[0mcomp_ids\u001b[0m\u001b[0;34m,\u001b[0m \u001b[0mobs_group_ids\u001b[0m \u001b[0;34m=\u001b[0m \u001b[0mtable\u001b[0m\u001b[0;34m.\u001b[0m\u001b[0mget_labels_groupby\u001b[0m\u001b[0;34m(\u001b[0m\u001b[0mgroup_index\u001b[0m\u001b[0;34m)\u001b[0m\u001b[0;34m\u001b[0m\u001b[0;34m\u001b[0m\u001b[0m\n\u001b[0m\u001b[1;32m    662\u001b[0m \u001b[0;34m\u001b[0m\u001b[0m\n\u001b[1;32m    663\u001b[0m     \u001b[0;32mif\u001b[0m \u001b[0msort\u001b[0m \u001b[0;32mand\u001b[0m \u001b[0mlen\u001b[0m\u001b[0;34m(\u001b[0m\u001b[0mobs_group_ids\u001b[0m\u001b[0;34m)\u001b[0m \u001b[0;34m>\u001b[0m \u001b[0;36m0\u001b[0m\u001b[0;34m:\u001b[0m\u001b[0;34m\u001b[0m\u001b[0;34m\u001b[0m\u001b[0m\n",
            "\u001b[0;31mKeyboardInterrupt\u001b[0m: "
          ]
        }
      ],
      "source": [
        "s = np.sum((df_posts[['profile_id','location_id']].dropna(axis = 0, how = 'any').groupby(['profile_id','location_id']).size() > 1))\n",
        "# we calculated the occurrences of location that are repeated more than one for every profile that means count 1 every time a \n",
        "# profile publishes a post in a previously posted location."
      ]
    },
    {
      "cell_type": "code",
      "execution_count": null,
      "metadata": {
        "id": "486060b9-9140-4e3c-9808-602157e1b29d"
      },
      "outputs": [],
      "source": [
        "prob2 = s/data_posts_loc.shape[0]\n",
        "print(prob2)\n",
        "del data_posts_loc"
      ]
    },
    {
      "cell_type": "markdown",
      "metadata": {
        "id": "3a226e46-81b8-47d6-9657-7ab59fcf0dbb"
      },
      "source": [
        "The probability is very low, it is almost 0.1035. I think that this probability doesn't make sense if we consider that a person, who inserted a location, wasn't necessarily in that location in reality. On instagram, people uses location also to obtain more visualizations and likes."
      ]
    },
    {
      "cell_type": "markdown",
      "metadata": {
        "id": "3e44a596-d43c-45dc-ab84-24a72ddce488"
      },
      "source": [
        "# RQ8 #\n",
        "\n"
      ]
    },
    {
      "cell_type": "markdown",
      "metadata": {
        "id": "58e2e3db-daa1-4dad-a950-419627398e51"
      },
      "source": [
        "## a) Does more likes also mean more comments? ##"
      ]
    },
    {
      "cell_type": "markdown",
      "metadata": {
        "id": "8eead07f-efe8-40a4-9615-dfa94faa6fc8"
      },
      "source": [
        "To see easily the relationship between likes and comments we compute two different sized random samples of data_posts to comply approximately the behaviour of the entire dataset. Obviously, bigger is the sample size, greater is the proximity to the entire dataset. To obtain a good visualization we use two reandom samples of size 50000 and 100000."
      ]
    },
    {
      "cell_type": "code",
      "execution_count": 20,
      "metadata": {
        "id": "1c74e49b-f096-4bf8-9c5c-6a17fe0ab16e"
      },
      "outputs": [],
      "source": [
        "new_data = df_posts.sample(n = 50000, random_state = 10)\n",
        "new_data2 = df_posts.sample(n = 100000, random_state = 10)"
      ]
    },
    {
      "cell_type": "code",
      "execution_count": 21,
      "metadata": {
        "id": "daee1c5c-4307-46cf-b9bb-c82e2bdd291d",
        "outputId": "a6c14ba7-22c6-463a-f8ef-e31a59191e11",
        "colab": {
          "base_uri": "https://localhost:8080/",
          "height": 284
        }
      },
      "outputs": [
        {
          "output_type": "display_data",
          "data": {
            "text/plain": [
              "<Figure size 432x288 with 1 Axes>"
            ],
            "image/png": "[encoded data removed]"
          },
          "metadata": {
            "needs_background": "light"
          }
        }
      ],
      "source": [
        "sns.regplot(x=new_data.number_comments, y=new_data.numbr_likes, line_kws={\"color\":\"r\",\"alpha\":0.7,\"lw\":5})\n",
        "plt.xlim(0,60)\n",
        "plt.ylim(0,1000)\n",
        "plt.show()"
      ]
    },
    {
      "cell_type": "code",
      "execution_count": 22,
      "metadata": {
        "id": "c68f5b00-27c1-49f0-a73a-8dcdd902b8fe",
        "outputId": "f4c42f3f-97ab-4ab0-80d4-ed3a9673022b",
        "colab": {
          "base_uri": "https://localhost:8080/",
          "height": 284
        }
      },
      "outputs": [
        {
          "output_type": "display_data",
          "data": {
            "text/plain": [
              "<Figure size 432x288 with 1 Axes>"
            ],
            "image/png": "[encoded data removed]"
          },
          "metadata": {
            "needs_background": "light"
          }
        }
      ],
      "source": [
        "sns.regplot(x=new_data2.number_comments, y=new_data2.numbr_likes, line_kws={\"color\":\"r\",\"alpha\":0.7,\"lw\":5})\n",
        "plt.xlim(0,130)\n",
        "plt.ylim(0,1800)\n",
        "plt.show()"
      ]
    },
    {
      "cell_type": "markdown",
      "metadata": {
        "id": "7288dc0a-4271-4ae5-8f60-e64e86f9ad07"
      },
      "source": [
        "As said previously, to obtain a better visualization, we computed a random sample of size 10000 from the population. This sample must have the more or less the same characteristics of the total population. The scatterplot shows the relationship between the number of comments and the number of likes and, as can be seen, there is a positive relationship. To show the positive linear relationship even better, we have constructed a regression line. The line has a positive angular coefficient, which shows that as comments increase, on average, the number of likes also increases. We can also compute the index correlation to show numerically the intensity of this linear relationship, but we can do it directly on the entire dataset.\n"
      ]
    },
    {
      "cell_type": "code",
      "execution_count": 23,
      "metadata": {
        "id": "3bec7236-0159-4803-bbcd-fef76eca61e0",
        "outputId": "5fcf15d0-49e7-4a25-a1d1-739f65a1758c",
        "colab": {
          "base_uri": "https://localhost:8080/",
          "height": 175
        }
      },
      "outputs": [
        {
          "output_type": "execute_result",
          "data": {
            "text/plain": [
              "                 profile_id  location_id  numbr_likes  number_comments\n",
              "profile_id         1.000000     0.035482    -0.041830        -0.026470\n",
              "location_id        0.035482     1.000000     0.008681         0.001180\n",
              "numbr_likes       -0.041830     0.008681     1.000000         0.419304\n",
              "number_comments   -0.026470     0.001180     0.419304         1.000000"
            ],
            "text/html": [
              "\n",
              "  <div id=\"df-474382c4-8e4b-45ae-a51e-8f11aa520ea5\">\n",
              "    <div class=\"colab-df-container\">\n",
              "      <div>\n",
              "<style scoped>\n",
              "    .dataframe tbody tr th:only-of-type {\n",
              "        vertical-align: middle;\n",
              "    }\n",
              "\n",
              "    .dataframe tbody tr th {\n",
              "        vertical-align: top;\n",
              "    }\n",
              "\n",
              "    .dataframe thead th {\n",
              "        text-align: right;\n",
              "    }\n",
              "</style>\n",
              "<table border=\"1\" class=\"dataframe\">\n",
              "  <thead>\n",
              "    <tr style=\"text-align: right;\">\n",
              "      <th></th>\n",
              "      <th>profile_id</th>\n",
              "      <th>location_id</th>\n",
              "      <th>numbr_likes</th>\n",
              "      <th>number_comments</th>\n",
              "    </tr>\n",
              "  </thead>\n",
              "  <tbody>\n",
              "    <tr>\n",
              "      <th>profile_id</th>\n",
              "      <td>1.000000</td>\n",
              "      <td>0.035482</td>\n",
              "      <td>-0.041830</td>\n",
              "      <td>-0.026470</td>\n",
              "    </tr>\n",
              "    <tr>\n",
              "      <th>location_id</th>\n",
              "      <td>0.035482</td>\n",
              "      <td>1.000000</td>\n",
              "      <td>0.008681</td>\n",
              "      <td>0.001180</td>\n",
              "    </tr>\n",
              "    <tr>\n",
              "      <th>numbr_likes</th>\n",
              "      <td>-0.041830</td>\n",
              "      <td>0.008681</td>\n",
              "      <td>1.000000</td>\n",
              "      <td>0.419304</td>\n",
              "    </tr>\n",
              "    <tr>\n",
              "      <th>number_comments</th>\n",
              "      <td>-0.026470</td>\n",
              "      <td>0.001180</td>\n",
              "      <td>0.419304</td>\n",
              "      <td>1.000000</td>\n",
              "    </tr>\n",
              "  </tbody>\n",
              "</table>\n",
              "</div>\n",
              "      <button class=\"colab-df-convert\" onclick=\"convertToInteractive('df-474382c4-8e4b-45ae-a51e-8f11aa520ea5')\"\n",
              "              title=\"Convert this dataframe to an interactive table.\"\n",
              "              style=\"display:none;\">\n",
              "        \n",
              "  <svg xmlns=\"http://www.w3.org/2000/svg\" height=\"24px\"viewBox=\"0 0 24 24\"\n",
              "       width=\"24px\">\n",
              "    <path d=\"M0 0h24v24H0V0z\" fill=\"none\"/>\n",
              "    <path d=\"M18.56 5.44l.94 2.06.94-2.06 2.06-.94-2.06-.94-.94-2.06-.94 2.06-2.06.94zm-11 1L8.5 8.5l.94-2.06 2.06-.94-2.06-.94L8.5 2.5l-.94 2.06-2.06.94zm10 10l.94 2.06.94-2.06 2.06-.94-2.06-.94-.94-2.06-.94 2.06-2.06.94z\"/><path d=\"M17.41 7.96l-1.37-1.37c-.4-.4-.92-.59-1.43-.59-.52 0-1.04.2-1.43.59L10.3 9.45l-7.72 7.72c-.78.78-.78 2.05 0 2.83L4 21.41c.39.39.9.59 1.41.59.51 0 1.02-.2 1.41-.59l7.78-7.78 2.81-2.81c.8-.78.8-2.07 0-2.86zM5.41 20L4 18.59l7.72-7.72 1.47 1.35L5.41 20z\"/>\n",
              "  </svg>\n",
              "      </button>\n",
              "      \n",
              "  <style>\n",
              "    .colab-df-container {\n",
              "      display:flex;\n",
              "      flex-wrap:wrap;\n",
              "      gap: 12px;\n",
              "    }\n",
              "\n",
              "    .colab-df-convert {\n",
              "      background-color: #E8F0FE;\n",
              "      border: none;\n",
              "      border-radius: 50%;\n",
              "      cursor: pointer;\n",
              "      display: none;\n",
              "      fill: #1967D2;\n",
              "      height: 32px;\n",
              "      padding: 0 0 0 0;\n",
              "      width: 32px;\n",
              "    }\n",
              "\n",
              "    .colab-df-convert:hover {\n",
              "      background-color: #E2EBFA;\n",
              "      box-shadow: 0px 1px 2px rgba(60, 64, 67, 0.3), 0px 1px 3px 1px rgba(60, 64, 67, 0.15);\n",
              "      fill: #174EA6;\n",
              "    }\n",
              "\n",
              "    [theme=dark] .colab-df-convert {\n",
              "      background-color: #3B4455;\n",
              "      fill: #D2E3FC;\n",
              "    }\n",
              "\n",
              "    [theme=dark] .colab-df-convert:hover {\n",
              "      background-color: #434B5C;\n",
              "      box-shadow: 0px 1px 3px 1px rgba(0, 0, 0, 0.15);\n",
              "      filter: drop-shadow(0px 1px 2px rgba(0, 0, 0, 0.3));\n",
              "      fill: #FFFFFF;\n",
              "    }\n",
              "  </style>\n",
              "\n",
              "      <script>\n",
              "        const buttonEl =\n",
              "          document.querySelector('#df-474382c4-8e4b-45ae-a51e-8f11aa520ea5 button.colab-df-convert');\n",
              "        buttonEl.style.display =\n",
              "          google.colab.kernel.accessAllowed ? 'block' : 'none';\n",
              "\n",
              "        async function convertToInteractive(key) {\n",
              "          const element = document.querySelector('#df-474382c4-8e4b-45ae-a51e-8f11aa520ea5');\n",
              "          const dataTable =\n",
              "            await google.colab.kernel.invokeFunction('convertToInteractive',\n",
              "                                                     [key], {});\n",
              "          if (!dataTable) return;\n",
              "\n",
              "          const docLinkHtml = 'Like what you see? Visit the ' +\n",
              "            '<a target=\"_blank\" href=https://colab.research.google.com/notebooks/data_table.ipynb>data table notebook</a>'\n",
              "            + ' to learn more about interactive tables.';\n",
              "          element.innerHTML = '';\n",
              "          dataTable['output_type'] = 'display_data';\n",
              "          await google.colab.output.renderOutput(dataTable, element);\n",
              "          const docLink = document.createElement('div');\n",
              "          docLink.innerHTML = docLinkHtml;\n",
              "          element.appendChild(docLink);\n",
              "        }\n",
              "      </script>\n",
              "    </div>\n",
              "  </div>\n",
              "  "
            ]
          },
          "metadata": {},
          "execution_count": 23
        }
      ],
      "source": [
        "new_data.corr()"
      ]
    },
    {
      "cell_type": "markdown",
      "metadata": {
        "id": "a24dc7c5-e861-41ba-84d0-d586dc2c9974"
      },
      "source": [
        "This is the correlation matrix only for the columns of number of likes and number of comments. Correlation index measures the intensity of the lineare relationship and in this particular case there is a presence of a small positive linear relationship and it is equal to 0.374453. "
      ]
    },
    {
      "cell_type": "markdown",
      "metadata": {
        "id": "7e37d33d-620b-4e7c-b95b-75a1e67fd331"
      },
      "source": [
        "## b) Can you find any significant relationship between the time a user publishes a post and the number of comments and “likes”? Use an appropriate statistical test or technique and support your choice. ##"
      ]
    },
    {
      "cell_type": "code",
      "execution_count": null,
      "metadata": {
        "id": "1c3cb4cc-4013-4fe4-abe9-a0e250bf58ed"
      },
      "outputs": [],
      "source": [
        "data_posts_cts = df_posts[['numbr_likes','number_comments','cts']].dropna(axis = 0, how = 'any')  # if there are missing values we are dropping rows that contain them"
      ]
    },
    {
      "cell_type": "code",
      "execution_count": null,
      "metadata": {
        "id": "6eb9116c-0675-4cfd-a648-fa2a2c690743"
      },
      "outputs": [],
      "source": [
        "type(data_posts_cts.cts.values[0])   #the type of elements of cts column is string"
      ]
    },
    {
      "cell_type": "code",
      "execution_count": null,
      "metadata": {
        "id": "1d19ada3-e96c-465b-beca-4a248dd6455b"
      },
      "outputs": [],
      "source": [
        "def convert(date):\n",
        "    if isinstance(date,str):\n",
        "        return pd.Timestamp(date).hour     # we creted a function that convert the strings in pandas data type\n",
        "                                           # and we extracted only the hours to compute summaries that male sense on the time"
      ]
    },
    {
      "cell_type": "code",
      "execution_count": null,
      "metadata": {
        "id": "f5394b95-f06d-4099-8712-c442e15032f3"
      },
      "outputs": [],
      "source": [
        "data_posts_cts['cts'] = data_posts_cts['cts'].apply(convert) # we apply the function on the entire column cts"
      ]
    },
    {
      "cell_type": "markdown",
      "metadata": {
        "id": "cf7a9bb8-796b-456e-bb6b-1dccd4b753cb"
      },
      "source": [
        "Now, we want to make groups by hours and compute some statistic summaries of number of like and number of comment to understand the relationship of the time among these variables. \n",
        "First we calculate the average of likes and comments based on hours, so we can understand what is the best time to publish posts to get more likes or comments."
      ]
    },
    {
      "cell_type": "code",
      "execution_count": null,
      "metadata": {
        "id": "cf9732bb-9c4b-468a-93b5-d786c3d732c7"
      },
      "outputs": [],
      "source": [
        "mean_data_sorted_likes = data_posts_cts.groupby('cts').mean().sort_values(['numbr_likes','number_comments'], ascending  = False)"
      ]
    },
    {
      "cell_type": "code",
      "execution_count": null,
      "metadata": {
        "id": "4003ff99-4112-443d-a59c-8d507f0fd0b6"
      },
      "outputs": [],
      "source": [
        "mean_data_sorted_likes"
      ]
    },
    {
      "cell_type": "markdown",
      "metadata": {
        "id": "649e9fde-6032-4cb3-a74f-974e5c8ade75"
      },
      "source": [
        "We sorted the results by likes and comments and as shown the best time to publish a post is at 18 or 16. Usually the first hours of a post are the most important because in this time period the post has more visibility, for this reason it is relevant to follow this table."
      ]
    },
    {
      "cell_type": "code",
      "execution_count": null,
      "metadata": {
        "id": "16d3afa9-d0e7-43c6-915c-db321c7ba92c"
      },
      "outputs": [],
      "source": [
        "mean_data_sorted_comments = data_posts_cts.groupby('cts').mean().sort_values(['number_comments','numbr_likes'], ascending  = False)"
      ]
    },
    {
      "cell_type": "code",
      "execution_count": null,
      "metadata": {
        "id": "9a1edf59-62b4-40a6-b471-c7132c5174d0"
      },
      "outputs": [],
      "source": [
        "mean_data_sorted_comments"
      ]
    },
    {
      "cell_type": "markdown",
      "metadata": {
        "id": "157a85b4-ebed-4557-bc07-1da5c0492888"
      },
      "source": [
        "This time, we sorted the results by comments and then by likes and as shown the best time to publish a post is 18 too ( another confirm that it is the best time to publish a post) or 20. In both cases the worst hours to publish a post seems to be 5, 6 and 22."
      ]
    },
    {
      "cell_type": "markdown",
      "metadata": {
        "id": "717c954a-6b93-4858-87f7-a318745fe196"
      },
      "source": [
        "## c) What’s the distribution of followers? Plot the empirical distribution of followers amongst all users and extract the mean, mode, and quantiles. Interpret those figures. ## "
      ]
    },
    {
      "cell_type": "code",
      "execution_count": null,
      "metadata": {
        "id": "37382ddc-448f-4a15-81c1-036e0d2dddd7"
      },
      "outputs": [],
      "source": [
        "sns.ecdfplot(data_profiles2, \n",
        "             x=\"followers\",)\n",
        "plt.ylim(0,1.5)"
      ]
    },
    {
      "cell_type": "markdown",
      "metadata": {
        "id": "f92dc5f0-08ef-4d9f-adb2-49cc95b51c0e"
      },
      "source": [
        "This is the plot of the empirical distrubution of followers amongst all users. The fact that the probability 1 is reached \"near\" the value zero means that there are few values that are very big, most of the distribution doesn't have very high values of followers. We can also compute all the values of the cumulative distribution function with the following code."
      ]
    },
    {
      "cell_type": "code",
      "execution_count": null,
      "metadata": {
        "id": "b7ac954a-5e05-4237-b5bf-3cea95f4f175"
      },
      "outputs": [],
      "source": [
        "import dc_stat_think as dcst\n",
        "from statistics import mode"
      ]
    },
    {
      "cell_type": "code",
      "execution_count": null,
      "metadata": {
        "id": "e8396f82-7e69-4610-8865-2fc78660f5e1"
      },
      "outputs": [],
      "source": [
        "x, y = dcst.ecdf(data_profiles2.followers)"
      ]
    },
    {
      "cell_type": "code",
      "execution_count": null,
      "metadata": {
        "id": "b7ffc25d-0ac4-45dd-aa4a-a84ca7dab801"
      },
      "outputs": [],
      "source": [
        "plt.plot(x,y)\n",
        "plt.xlim(0,50000)\n",
        "plt.show()\n"
      ]
    },
    {
      "cell_type": "markdown",
      "metadata": {
        "id": "47377d71-f356-4e81-98fb-236477edc191"
      },
      "source": [
        "We have the same result, but now we have a more concentrated visualization to see the behaviour of the function for lower values. Furthermore, we can use the  calculated values to extract the mean, mode and quantiles."
      ]
    },
    {
      "cell_type": "code",
      "execution_count": null,
      "metadata": {
        "id": "101ef0d0-bfc8-4bb8-96db-cba89c362cd4"
      },
      "outputs": [],
      "source": [
        "average = np.mean(x)\n",
        "print(average)\n"
      ]
    },
    {
      "cell_type": "markdown",
      "metadata": {
        "id": "03354f9a-e367-4094-bcc1-7358fa299adf"
      },
      "source": [
        "The mean of the followers of all users is about 4740. This value summarizes the entire distribution of followers with a single number representing the data’s center point or typical value."
      ]
    },
    {
      "cell_type": "code",
      "execution_count": null,
      "metadata": {
        "id": "c054565d-b933-4087-b8d8-ee0ecd135cac"
      },
      "outputs": [],
      "source": [
        "median = np.min(x[y >= 0.5])\n",
        "print(median)\n"
      ]
    },
    {
      "cell_type": "markdown",
      "metadata": {
        "id": "f79f8119-2b57-4cb2-b04e-d54f124d9446"
      },
      "source": [
        "The median is equal to 406.0. This value is the midpoint of the distribution and is the point at which half the observations are above the value and half the observations are below the value. The median and the mean both measure central tendency. But unusual values, called outliers, can affect the median less than they affect the mean. In this case the distribution is positevely asymmetric because the mean is greater than the median. This could suggest that there are very large values of followers that affect the average, perhaps possible outliers, but if we think about the nature of the dataset concerning instagram, they they could only be famous people with a lot of followers."
      ]
    },
    {
      "cell_type": "code",
      "execution_count": null,
      "metadata": {
        "id": "f7b778dd-4276-49f2-97ef-ce9a0d99a2b4"
      },
      "outputs": [],
      "source": [
        "moda = mode(x)\n",
        "print(moda)"
      ]
    },
    {
      "cell_type": "markdown",
      "metadata": {
        "id": "a81727b7-483e-40ca-9c5d-a3432ed25a16"
      },
      "source": [
        "The mode is 0.0, it the value that appears most frequently in a data set. This value makes it clear that there are a very high amount of profiles that have 0 followers. This low number could be due to the presence of many fake accounts or many bot accounts without followers."
      ]
    },
    {
      "cell_type": "code",
      "execution_count": null,
      "metadata": {
        "id": "eb09c9cd-17c1-4220-8cc5-6b90969fd6fc"
      },
      "outputs": [],
      "source": [
        "first_quantile = np.min(x[y >= 0.25])\n",
        "print(first_quantile)\n",
        "\n",
        "second_quantile = median\n",
        "print(second_quantile)\n",
        "\n",
        "third_quantile = np.min(x[y >= 0.75])\n",
        "print(third_quantile)"
      ]
    },
    {
      "cell_type": "markdown",
      "metadata": {
        "id": "2dd3273c-9feb-48ec-9ae9-74f4eab3f08b"
      },
      "source": [
        "The quantiles, more precisely the quartiles have an interpretation similar to that of the median. In this case the first quartile is 159.0 and it means that the 25% of profiles on instagram have less than 159 followers.\n",
        "\n",
        "The second quartile is equal to the median and it means that a 50% of the profiles have less than 406 followers, but also that the other 50% of the profiles have more than 406 followers.\n",
        "\n",
        "The third quartile is 974.0 and it means that the 25% of profiles on instagram have more than 974.0 followers or the 75% of profiles on instagram have less than 974.0 followers.\n",
        "\n",
        "Thanks to these quartiles we can see how the average ranks beyond the third quartile, precisely because there are very high values of followers that influence it."
      ]
    },
    {
      "cell_type": "markdown",
      "metadata": {
        "id": "8c42bd61-6e58-47e2-94c4-077eb6c86eee"
      },
      "source": [
        "## d) What are histograms, bar plots, scatterplots and pie charts used for? ##"
      ]
    },
    {
      "cell_type": "markdown",
      "metadata": {
        "id": "974daf89-44f0-46ec-b67d-ff22f4bdf398"
      },
      "source": [
        "All heard the old adage: “a picture is worth a thousand words”. One of the best techniques for understanding data is to visualize the numbers as a picture. This can make it far easier to see a pattern or it can expose patterns that might otherwise have been concealed. Data can be visualized in different ways, some charts are more appropriate than others, depending on the nature of the data. We focus on histograms, bar plots, scatterplots and pie charts. "
      ]
    },
    {
      "cell_type": "markdown",
      "metadata": {
        "id": "3b4db9b3-8c65-402a-8c23-f682670273e4"
      },
      "source": [
        "### HISTOGRAM ###\n",
        "\n",
        "The histogram is used to summarize discrete or continuous data that are measured on an interval scale. It is often used to illustrate the major features of the distribution of the data in a convenient form. It is also useful when dealing with large datasets. It can help detect any unusual observations (outliers) or any gaps in the data. A histogram divides up the range of possible values in a data set into classes or groups. For each group, a rectangle is constructed with a base length equal to the range of values in that specific group and a length equal to the number of observations falling into that group.  A histogram has an appearance like a vertical bar chart, but there are no gaps between the bars.\n"
      ]
    },
    {
      "cell_type": "markdown",
      "metadata": {
        "id": "df6a3be5-575e-42df-bd48-491b8e1e53c5"
      },
      "source": [
        "### BAR PLOTS ###\n",
        "\n",
        "A bar chart is the simplest type of chart to draw and read. It is used to compare frequencies or values for different categories or groups. Bar charts usually present categorical variables, discrete variables or continuous variables grouped in class intervals. They consist of an axis and a series of labelled horizontal or vertical bars. The bars depict frequencies of different values of a variable or simply the different values themselves. There are also subclasses of barcharts, for example vertical bar charts, horizontal bar charts,  grouped bar charts, horizontal bar charts and stacked bar charts. Bar charts should be used when you are showing segments of information. Vertical bar charts are useful to compare different categorical or discrete variables, such as age groups, classes, schools, etc., if there are not too many categories to compare. They are also very useful for time series data. One disadvantage of vertical bar charts, however, is that they lack space for text labelling at the foot of each bar. When category labels in the chart are too long, you might find a horizontal bar chart better for displaying information\n",
        "Grouped bar charts allow to make direct comparisons on the same chart by age group, gender or anything else you wish to compare. However, if a grouped bar chart has too many series of data, the chart becomes cluttered and it can be confusing to read. One disadvantage of vertical bar charts, however, is that they lack space for text labelling at the foot of each bar. When category labels in the chart are too long, you might find a horizontal bar chart better for displaying information. The stacked bar chart is a preliminary data analysis tool used to show segments of total. It can contrast values, but not necessarily in the simplest manner. "
      ]
    },
    {
      "cell_type": "markdown",
      "metadata": {
        "id": "f46a9ece-0dc0-41a9-96df-82069960ba27"
      },
      "source": [
        "### SCATTERPLOTS ###\n",
        "\n",
        "The scatterplot is widely used to present measurements of two or more related variables. It is particularly useful when the values of the variables of the y-axis are thought to be dependent upon the values of the variable of the x-axis. In a scatterplot, the data points are plotted but not joined. The resulting pattern indicates the type and strength of the relationship between two or more variables. The pattern of the data points on the scatterplot reveals the relationship between the variables. Scatterplots can illustrate various patterns and relationships, such as:\n",
        "\n",
        "a linear or non-linear relationship, \n",
        "\n",
        "a positive (direct) or negative (inverse) relationship,\n",
        "\n",
        "the concentration or spread of data points, \n",
        "\n",
        "the presence of outliers.\n"
      ]
    },
    {
      "cell_type": "markdown",
      "metadata": {
        "id": "e8721ac1-c559-4bdc-98d0-fa52279a39ed"
      },
      "source": [
        "### PIE CHART ###\n",
        "\n",
        "A pie chart is a way of summarizing a set of nominal data or displaying the different values of a given variable, This type of chart is a circle divided into a series of segments. Each segment represents a particular category. The area of each segment is the same proportion of a circle as the category is of the total data set. Pie chart usually shows the component parts of a whole. A pie chart can be used to show the percentage distribution of one variable, but only a small number of categories can be displayed, usally not more than six. The use of this type of chart is not recommended by many statisticians, as it can be difficult to compare the different segments of the pie and, even more, to compare data across different pie charts. To overcome this problem, the segments can be labeled with their actual values. In some cases, the category names can also be written as labels on the chart, so that the legend is not necessary.\n"
      ]
    },
    {
      "cell_type": "markdown",
      "metadata": {
        "id": "5419adc3-5f0b-4f57-844a-fdcffa330f78"
      },
      "source": [
        "## e) What insights can you extract from a boxplot? ##"
      ]
    },
    {
      "cell_type": "markdown",
      "metadata": {
        "id": "56f0aa35-1ca9-4eb1-a2bb-5b5ba519693f"
      },
      "source": [
        "A boxplot is a simple and powerful representation of a univariate distribution. \n",
        "\n",
        "**Box** : \n",
        "\n",
        "The box embraces the portion of data included between the 25 and 75 percentiles (also known as first and third quartiles). Namely, the 25 percentile (or first quartile) of a given sample of numerical data indicates the value below which 25% of all sample data are located. The range between these two quartiles is called Interquartile Range (IQR). \n",
        "\n",
        "**Median**:\n",
        "\n",
        "Within the box, we can also see the value of median. Note that the median is nothing but the 50 percentile of the underlying numerical data.\n",
        "\n",
        "**Whisker**:\n",
        "\n",
        "They account for all the values that fall outside the central 50% of data (the portion contained into the IQR).\n",
        "\n",
        "**Min and Max**: \n",
        "\n",
        "These two values identify the extreme values of our numerical data. Note that box plots can also be displayed in a slightly different manner, so that the termination of whiskers do not represent the extreme values (min/max), but rather a quantity computed as Q1–1.5 * IQR for the lower whisker, Q3 + 1.5 * IQR for the upper whisker (where Q1 and Q3 stand for, respectively, first and third quartiles). This different visualization is very useful if we want to identify outliers.\n",
        "\n",
        "**Skewness of Distribution**: \n",
        "\n",
        "We can retrieve the shape of the distribution, which means, understanding whether it is symmetric or not. The skewness is the quantity that tells us the tendency of our distribution to be asymmetric. More specifically, a positive skewness indicates a right-skewed distribution, where the median is lower than the mean. On the other side, a negative skewness indicates a left-skewed distribution where the median is greater than the mean. \n",
        "Basically, whenever the median is closer to the lower bound of the box, and the upper whisker is longer than the lower one, it indicates that the distribution is right-skewed (the skewness is positive).\n",
        "On the other hand, whenever the median is closer to the upper bound of the box, and the lower whisker is longer than the upper one, it indicates a left-skewed distribution (the skewness is negative).\n",
        "\n",
        "\n",
        "**Outliers**: \n",
        "\n",
        "We can retrieve, as previously mentioned, the presence of outliers. In statistics, we define outliers as those values which are far apart from the majority of other values. As a general rule, we can say that a given observation is an outlier whenever it is greater than Q3 + 1.5 * IQR or lower than Q1 -1.5 * IQR. There will be some observations that fall outside the whiskers: those are labeled as outliers.\n"
      ]
    },
    {
      "cell_type": "code",
      "execution_count": null,
      "metadata": {
        "id": "bbfa3915-e621-4aa9-af3d-b24978422bfa"
      },
      "outputs": [],
      "source": []
    },
    {
      "cell_type": "code",
      "execution_count": null,
      "metadata": {
        "id": "55e42fc6-ee54-4bb3-9898-3024e42eaa2b"
      },
      "outputs": [],
      "source": []
    },
    {
      "cell_type": "code",
      "execution_count": null,
      "metadata": {
        "id": "91fe90d6-5b95-43e2-894d-ec8e8f35a6ab"
      },
      "outputs": [],
      "source": []
    },
    {
      "cell_type": "markdown",
      "source": [
        "# Algorithmic Question"
      ],
      "metadata": {
        "id": "K13-hcpDG01n"
      }
    },
    {
      "cell_type": "markdown",
      "source": [
        "To understand the functioning of the algorithm we must do a key observation: every iteration of the for loop (no matter in which subcall of the function f2) doesn't modify the sequence that has been passed to the function call, i.e. every modification made in each iteration is undone by the end of such iteration.\n",
        "We proof this by induction on the parameter $start$ in a reverse order, i.e. with $start$ from $end$ up to $0$:\n",
        "\n",
        "\n",
        "*   Base step: $start = end$ \\\\\n",
        "The function just print the entire sequence, so it does not alter the sequence itself\n",
        "\n",
        "\n",
        "*   Suppose the claim true for $start + 1$ \\\\\n",
        "We call f2 with $start$ and, taking for example the first iteration, we have in the ordering: a flip of two elements of the sequence, a call of f2 with $start + 1$ which doesn't change the sequence and then the exact same previous flip, so the sequence remain analtered.\n",
        "So what the algorithm do is \n",
        "We now describe the algorithm on a specific sequence : [a,b,c] \\\\\n",
        "To make the explanation more clear we call $i$ the index of the main f2 call and $j$ the indeces of the nested calls. \\\\\n",
        "Let's consider a practical examle to explain what the algorithm does, let's take the sequence [a,b,c]: it starts with the whole sequence and considers all the sequences that have as first element each of the element of the sequence (the for loop) in this case a sequence that starts with a, one that starts with b and one that starts with c, for every such sequence we call the function on the subsequence composed by the whole sequence without the first element and so on in a recursive manner. Since the only operation we are doing on the sequence is flipping elements we are not introducing more occurences of the elements (i.e. we can not obtain the sequence [a,a,a]). It is then clear we afre talking of the permutation of the sequence. \\\\\n",
        "Let's see the algorithm in action with [a,b,c].\n",
        "start = 0 end = 3 \\\\\n",
        "$i=0$ (start=0) \\\\\n",
        "&nbsp;&nbsp;&nbsp;&nbsp; [a,b,c] \\\\\n",
        "&nbsp;&nbsp;&nbsp;&nbsp; $j=1$ (start=1) \\\\\n",
        "&nbsp;&nbsp;&nbsp;&nbsp;&nbsp;&nbsp;&nbsp;&nbsp; [a,b,c] \\\\\n",
        "&nbsp;&nbsp;&nbsp;&nbsp;&nbsp;&nbsp;&nbsp;&nbsp; $k=2$ (start=2) \\\\\n",
        "&nbsp;&nbsp;&nbsp;&nbsp;&nbsp;&nbsp;&nbsp;&nbsp;&nbsp;&nbsp;&nbsp;&nbsp; [abc] \\\\\n",
        "&nbsp;&nbsp;&nbsp;&nbsp;&nbsp;&nbsp;&nbsp;&nbsp;&nbsp;&nbsp;&nbsp;&nbsp; print(a,b,c) \\\\\n",
        "&nbsp;&nbsp;&nbsp;&nbsp;&nbsp;&nbsp;&nbsp;&nbsp;&nbsp;&nbsp;&nbsp;&nbsp; [abc] \\\\\n",
        "&nbsp;&nbsp;&nbsp;&nbsp;&nbsp;&nbsp;&nbsp;&nbsp; [a,b,c] \\\\\n",
        "&nbsp;&nbsp;&nbsp;&nbsp; $j=2$ (start=1) \\\\\n",
        "&nbsp;&nbsp;&nbsp;&nbsp;&nbsp;&nbsp;&nbsp;&nbsp; [a,c,b] \\\\\n",
        "&nbsp;&nbsp;&nbsp;&nbsp;&nbsp;&nbsp;&nbsp;&nbsp; print(a,c,b) \\\\\n",
        "&nbsp;&nbsp;&nbsp;&nbsp;&nbsp;&nbsp;&nbsp;&nbsp; [abc] \\\\\n",
        "$i=1$ (start = 0) \\\\\n",
        "&nbsp;&nbsp;&nbsp;&nbsp; [b,a,c] \\\\\n",
        "&nbsp;&nbsp;&nbsp;&nbsp; $j=1$ (start=1) \\\\\n",
        "&nbsp;&nbsp;&nbsp;&nbsp;&nbsp;&nbsp;&nbsp;&nbsp; [b,a,c] \\\\\n",
        "&nbsp;&nbsp;&nbsp;&nbsp;&nbsp;&nbsp;&nbsp;&nbsp; $k=2$ (start=2) \\\\\n",
        "&nbsp;&nbsp;&nbsp;&nbsp;&nbsp;&nbsp;&nbsp;&nbsp;&nbsp;&nbsp;&nbsp;&nbsp; [b,a,c] \\\\\n",
        "&nbsp;&nbsp;&nbsp;&nbsp;&nbsp;&nbsp;&nbsp;&nbsp;&nbsp;&nbsp;&nbsp;&nbsp; print(b,a,c) \\\\\n",
        "&nbsp;&nbsp;&nbsp;&nbsp;&nbsp;&nbsp;&nbsp;&nbsp;&nbsp;&nbsp;&nbsp;&nbsp; [b,a,c] \\\\\n",
        "&nbsp;&nbsp;&nbsp;&nbsp;&nbsp;&nbsp;&nbsp;&nbsp; [b,a,c] \\\\\n",
        "&nbsp;&nbsp;&nbsp;&nbsp; $j=2$ (start=1) \\\\\n",
        "&nbsp;&nbsp;&nbsp;&nbsp;&nbsp;&nbsp;&nbsp;&nbsp; [b,c,a] \\\\\n",
        "&nbsp;&nbsp;&nbsp;&nbsp;&nbsp;&nbsp;&nbsp;&nbsp; print(b,c,a) \\\\\n",
        "&nbsp;&nbsp;&nbsp;&nbsp;&nbsp;&nbsp;&nbsp;&nbsp; [b,a,c] \\\\\n",
        "$i=2$ (start=0) \\\\\n",
        "&nbsp;&nbsp;&nbsp;&nbsp; [c,b,a] \\\\\n",
        "&nbsp;&nbsp;&nbsp;&nbsp; $j=1$ (start=1) \\\\\n",
        "&nbsp;&nbsp;&nbsp;&nbsp;&nbsp;&nbsp;&nbsp;&nbsp; [c,b,a] \\\\\n",
        "&nbsp;&nbsp;&nbsp;&nbsp;&nbsp;&nbsp;&nbsp;&nbsp; $k=2$ (start=2) \\\\\n",
        "&nbsp;&nbsp;&nbsp;&nbsp;&nbsp;&nbsp;&nbsp;&nbsp;&nbsp;&nbsp;&nbsp;&nbsp; [c,b,a] \\\\\n",
        "&nbsp;&nbsp;&nbsp;&nbsp;&nbsp;&nbsp;&nbsp;&nbsp;&nbsp;&nbsp;&nbsp;&nbsp; print(c,b,a) \\\\\n",
        "&nbsp;&nbsp;&nbsp;&nbsp;&nbsp;&nbsp;&nbsp;&nbsp;&nbsp;&nbsp;&nbsp;&nbsp; [c,b,a] \\\\\n",
        "&nbsp;&nbsp;&nbsp;&nbsp;&nbsp;&nbsp;&nbsp;&nbsp; [c,b,a] \\\\\n",
        "&nbsp;&nbsp;&nbsp;&nbsp; $j=2$ (start=1) \\\\\n",
        "&nbsp;&nbsp;&nbsp;&nbsp;&nbsp;&nbsp;&nbsp;&nbsp; [c,a,b] \\\\\n",
        "&nbsp;&nbsp;&nbsp;&nbsp;&nbsp;&nbsp;&nbsp;&nbsp; print(c,a,b) \\\\\n",
        "&nbsp;&nbsp;&nbsp;&nbsp;&nbsp;&nbsp;&nbsp;&nbsp; [c,b,a] \\\\\n",
        "\n"
      ],
      "metadata": {
        "id": "_vzzlaXsHYfc"
      }
    },
    {
      "cell_type": "markdown",
      "source": [
        "## Computational complexity"
      ],
      "metadata": {
        "id": "-rtIhh-IEQ7e"
      }
    },
    {
      "cell_type": "markdown",
      "source": [
        "\\begin{align}\n",
        "T(n) &= nT(n-1) + nO(1) = \\\\\n",
        " &=n((n-1)T(n-2) + (n-1)O(1)) + nO(1) = \\\\\n",
        " &=n(n-1)T(n-2) + n(n-1)O(1) + nO(1) = \\\\\n",
        " &=  ...  \\\\\n",
        " & n(n-1)...(n-k+1)T(n-k) + \\sum_{i=0}^{k} \\frac{n!}{(n-i)!}\n",
        "\\end{align}\n",
        "We stop when $n-k = 0$ i.e. when $k = n$  \\\\\n",
        "We obtain: \\\\\n",
        "$$ T(n) = n!T(0) + O(1) \\sum_{i=0}^{n} \\frac{n!}{(n-i)!} $$\n",
        "Since  $T(0) = O(n)$: \\\\\n",
        "$$ T(n) = O(nn!) + O(1) \\sum_{i=0}^{n} \\frac{n!}{(n-i)!} \\le O(nn!) + O(1)en! = O(nn!)$$\n",
        "\n",
        "Now we ask: is there a better algorithm? \\\\\n",
        "The answer is: if we want to print all the permutations, no. \\\\\n",
        "Fistly it is not possible to compute permutations in less than $n!$. This is obviuos because we need at least costant time to compute each of them, and the total number of permutations is $n!$. Secondly notice that the algorithm actually takes $n!$ time to compute the permutations but, since we have to print all of them with a for loop that takes linear time, the complexity raise to $nn!$\n"
      ],
      "metadata": {
        "id": "XIXvldejEVEJ"
      }
    },
    {
      "cell_type": "markdown",
      "source": [],
      "metadata": {
        "id": "EKjFkt-NuFQu"
      }
    },
    {
      "cell_type": "code",
      "execution_count": null,
      "metadata": {
        "id": "66765cc5-573e-4986-b600-a0c73b5b684a"
      },
      "outputs": [],
      "source": [
        "import numpy as np\n",
        "import matplotlib.pyplot as plt\n",
        "import time"
      ]
    },
    {
      "cell_type": "markdown",
      "metadata": {
        "id": "14512668-6e85-4834-a031-69e438eaec2d"
      },
      "source": [
        "# AQ2 #"
      ]
    },
    {
      "cell_type": "markdown",
      "metadata": {
        "id": "70fd73d7-061d-44ce-a971-174ab6c25e40"
      },
      "source": [
        "## 1. Implement a recursive algorithm to help Alex find the maximum possible value after multiplying the length of the pieces. Explain your algorithm in detail. ## "
      ]
    },
    {
      "cell_type": "code",
      "execution_count": null,
      "metadata": {
        "id": "270f6024-919a-4dd5-a267-c4801a0ab555"
      },
      "outputs": [],
      "source": [
        "# recursive algorithm\n",
        "def cut_one(n):\n",
        "    # base cases,\n",
        "    if n <=1 :\n",
        "        return 0\n",
        "    # setting the max value to 0, cutting \n",
        "    # and update it with the new maximum value\n",
        "    mval = 0\n",
        "    for i in range(1,n):\n",
        "        mval = max(mval, i*(n-i), cut_one(n-i)*i)\n",
        "    return mval"
      ]
    },
    {
      "cell_type": "markdown",
      "metadata": {
        "id": "c9ee42e9-f708-432c-a655-d48e8c7d67ae"
      },
      "source": [
        "We respected the three rules because every piece of the cut always has an integer length; with the base cases we also checked that that there is at least one cut; we used every time the function max to take the maximum possible. \n",
        "\n",
        "Algorithm behaviour:\n",
        "We assumed that n is a length and for this reason it is a number at least equal to zero. Every time the length of the ribbon becomes 0 or 1 we return the 0 value which will have passed inside the function max to do che checking with other values. We need to initialize a variable called mval that will contain for every iteration the new maximum value. Mixing the for loop and the recursion we are able to compute all the combinations of the pieces and to store, as last one number, the maximum value possibile, based on the multiplication of the length of all pieces."
      ]
    },
    {
      "cell_type": "markdown",
      "metadata": {
        "id": "6a55facc-8635-41c1-a5f1-ed76ca084fa9"
      },
      "source": [
        "## 2. Show that the algorithm has exponential running time. ##"
      ]
    },
    {
      "cell_type": "markdown",
      "source": [
        "\\begin{align}\n",
        "T(n) &= T(n-1) + T(n-2) + ... + T(1) + O(n) \\\\\n",
        "&= 2T(n-2) + 2T(n-3) + ... + 2T(1) + O(n) + 2O(n-1) \\\\\n",
        "&= 4T(n-3) + 4T(n-4) + ... 4T(1) + O(n) + 2O(n-1) + 4O(n-2) \\\\\n",
        "&= ... \\\\\n",
        "&= 2^{k-1}T(n-k) + ... + 2^{k-1}T(1) + \\sum_{i=0}^{k-1}2^iO(n-i) \\\\\n",
        "&=... \\\\\n",
        "&= 2^{n-2}T(1) + \\sum_{i=0}^{n-2}2^iO(n-i) \\\\\n",
        "\\end{align}\n",
        "We have the two inequalities:\n",
        "\n",
        "$$ \\ge O(2^{n})$$\n",
        "\n",
        "and\n",
        "\n",
        "$$ \\le O(2^{n-2}) + O(n)\\sum_{i=0}^{n-2}2^i = O(2^{n})$$\n",
        "\n",
        "So the algorithm is exponential"
      ],
      "metadata": {
        "id": "HvI4bDbHhZhP"
      }
    },
    {
      "cell_type": "markdown",
      "metadata": {
        "id": "673abb9b-53c1-435a-ae83-2294ebb9980d"
      },
      "source": [
        "## 3. Now provide a polynomial solution, based on dynamic programming, and compute its running-time complexity. ##"
      ]
    },
    {
      "cell_type": "code",
      "execution_count": null,
      "metadata": {
        "id": "b064d2f7-7cb1-47d0-b72b-5c3023025e25"
      },
      "outputs": [],
      "source": [
        "# Polynomial solution based on dinamic programming\n",
        "def cut_two(n):\n",
        "    arr= [0 for i in range(n+1)]\n",
        "\n",
        "# the last value of the array that we are building will be our solution\n",
        "# the maximum product of the length of the cuts\n",
        "    for i in range(1,n+1):\n",
        "        mval = 0;\n",
        "        for j in range(1,i):\n",
        "                mval = max(mval, (i-j)*j, j*arr[i-j])\n",
        "        arr[i] = mval\n",
        "    return arr[n]\n"
      ]
    },
    {
      "cell_type": "code",
      "execution_count": null,
      "metadata": {
        "id": "d8c04886-01d5-4f3f-8655-fbad8baec235"
      },
      "outputs": [],
      "source": [
        "#??????????6"
      ]
    },
    {
      "cell_type": "markdown",
      "metadata": {
        "id": "38bc3dbd-4ffe-49fc-923c-8deb56b8959b"
      },
      "source": [
        "## 4. Evaluate the running time of your algorithm for the sizes (Ns) in the range of [2, 25], plot the results, and interpret it (if you have implemented two algorithms, please include both in the plot and compare them). ##"
      ]
    },
    {
      "cell_type": "code",
      "execution_count": null,
      "metadata": {
        "id": "0cec1597-e385-4820-8efe-9546b52a8e46"
      },
      "outputs": [],
      "source": [
        "time1 = []\n",
        "time2 = []\n"
      ]
    },
    {
      "cell_type": "code",
      "execution_count": null,
      "metadata": {
        "id": "66ae67d9-b7fb-4e99-b14b-55a141c9c11e"
      },
      "outputs": [],
      "source": [
        "for i in range(2,26):\n",
        "    time_start = time.time()\n",
        "    cut_one(i)\n",
        "    time_end = time.time()\n",
        "    time1.append(time_end -  time_start)\n",
        "    \n",
        "    time_start = time.time()\n",
        "    cut_two(i)\n",
        "    time_end = time.time()\n",
        "    time2.append(time_end - time_start)"
      ]
    },
    {
      "cell_type": "code",
      "execution_count": null,
      "metadata": {
        "id": "1eaa2c27-9d5c-4c49-8e26-559c884153c3",
        "outputId": "8ce1c727-2ddc-4f66-bded-fc422598818d"
      },
      "outputs": [
        {
          "data": {
            "text/plain": [
              "[<matplotlib.lines.Line2D at 0x1d760f76290>]"
            ]
          },
          "execution_count": 8,
          "metadata": {},
          "output_type": "execute_result"
        },
        {
          "data": {
            "image/png": "[encoded data removed]",
            "text/plain": [
              "<Figure size 640x480 with 1 Axes>"
            ]
          },
          "metadata": {},
          "output_type": "display_data"
        }
      ],
      "source": [
        "plt.plot(np.arange(2,26), time1)\n",
        "plt.plot(np.arange(2,26), time2, color = 'red')"
      ]
    },
    {
      "cell_type": "markdown",
      "metadata": {
        "id": "d9ce646b-9ad2-44af-b189-7d28205040a1"
      },
      "source": [
        "As can be seen, the first algorithm has an higher running time than the second for bigger values of n and his exponential trend seems to be confirmed. On the other hand, the second solution has a polynomial complexity, but in the range [2,25] of n, for my pc the running time is always 0.0.  "
      ]
    },
    {
      "cell_type": "markdown",
      "metadata": {
        "id": "6683f425-61e7-450f-93e9-439ffb529f3f"
      },
      "source": [
        "## 5. (Optional, mini bonus) Is the algorithm of question 3 optimal? If you belive it, can you prove it? If not, can you find a faster algorithm? In case you found a faster algorithm implement it and explain your algorithm in detail. ##"
      ]
    },
    {
      "cell_type": "code",
      "execution_count": null,
      "metadata": {
        "id": "caf229f6-533a-4d89-8541-0d402f5e882f"
      },
      "outputs": [],
      "source": [
        "def cut_three(n):\n",
        "    if n <= 1:\n",
        "        return 0\n",
        "    elif n == 2:\n",
        "        return 1\n",
        "    elif n == 3:\n",
        "        return 2\n",
        "    prod = 1\n",
        "    while n > 4:\n",
        "        n = n - 3\n",
        "        prod = prod * 3\n",
        "    prod = prod * n\n",
        "    return prod\n"
      ]
    },
    {
      "cell_type": "code",
      "execution_count": null,
      "metadata": {
        "id": "a3ee891e-21ac-402c-a130-92536230b7f2",
        "outputId": "84e78e5c-939b-4ece-9ab0-8ce48088aac7"
      },
      "outputs": [
        {
          "data": {
            "text/plain": [
              "4"
            ]
          },
          "execution_count": 16,
          "metadata": {},
          "output_type": "execute_result"
        }
      ],
      "source": [
        "cut_three(4)"
      ]
    },
    {
      "cell_type": "code",
      "execution_count": null,
      "metadata": {
        "id": "0292e6ad-1827-4450-a7a9-b6a339b20460",
        "outputId": "e5195d90-6bd3-430d-8d0c-fcb7fa2e4a9b"
      },
      "outputs": [
        {
          "data": {
            "text/plain": [
              "4"
            ]
          },
          "execution_count": 17,
          "metadata": {},
          "output_type": "execute_result"
        }
      ],
      "source": [
        "cut_two(4)"
      ]
    },
    {
      "cell_type": "markdown",
      "metadata": {
        "id": "692509e2-9b66-48a9-a074-63b33c05bb50"
      },
      "source": [
        "There is a pattern that can be recognised,the maximum product among the length of the cuts, is calculated repeatedly cutting parts of length 3 while length is greater than 4. The size 0 and 1 are managed by the first if, the size 2 by the second and the size 3 by the third. Moreover, the size 4 is managed with only the use of prod = prod*n(where n is equal to 4 and prod is equal to 1)."
      ]
    }
  ],
  "metadata": {
    "colab": {
      "collapsed_sections": [],
      "provenance": []
    },
    "kernelspec": {
      "display_name": "Python 3",
      "name": "python3"
    },
    "language_info": {
      "name": "python"
    }
  },
  "nbformat": 4,
  "nbformat_minor": 0
}