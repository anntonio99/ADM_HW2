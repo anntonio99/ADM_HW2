{
 "cells": [
  {
   "cell_type": "markdown",
   "id": "6758859d-62ec-45b6-afef-3a321654f97a",
   "metadata": {},
   "source": [
    "## Research questions 3"
   ]
  },
  {
   "cell_type": "code",
   "execution_count": 1,
   "id": "4fc81f5c-493c-4294-a84f-55e894537f79",
   "metadata": {},
   "outputs": [
    {
     "name": "stderr",
     "output_type": "stream",
     "text": [
      "Matplotlib is building the font cache; this may take a moment.\n"
     ]
    }
   ],
   "source": [
    "import pandas as pd\n",
    "import numpy as np\n",
    "from numpy import histogram as hist\n",
    "from PIL import Image\n",
    "import matplotlib.pyplot as plt"
   ]
  },
  {
   "cell_type": "code",
   "execution_count": 2,
   "id": "c0bac806-c08e-4965-8b62-338e081f2cd9",
   "metadata": {},
   "outputs": [],
   "source": [
    "df_posts=pd.read_csv('/home/ec2-user/instagram_posts.zip', sep='\\t',usecols=['cts'])"
   ]
  },
  {
   "cell_type": "markdown",
   "id": "ee736dd4-90f9-4aea-8420-8d8071e71594",
   "metadata": {},
   "source": [
    "### RQ3-SECOND QUESTION\n",
    "-Create a function that receives a time intervals list as a parameter and returns a plot with \n",
    "the number of posts for each given interval.-\n",
    "\n",
    "the input intervals list is assumed to be of the form below:\n",
    "\n",
    "input_intervals=['06:00:00','10:59:59','11:00:00','13:59:59',...,'23:59:59','00:00:00','2:59:59','03:00:00','5:59:59']\n",
    "\n",
    "intervals_sort manipulates the list input_intervals in order to prform the algorithm function_RQ3;\n",
    "\n",
    "counter_original_intervals reorders the values used by the function function_RQ3 relative to the input intervals."
   ]
  },
  {
   "cell_type": "code",
   "execution_count": 3,
   "id": "2ef38fd0-1e67-4803-b149-faa92da86b66",
   "metadata": {},
   "outputs": [],
   "source": [
    "def intervals_sort(input_intervals):\n",
    "   l=input_intervals[::2]\n",
    "   num_intervals=len(l)\n",
    "   \n",
    "   list_variable=[]\n",
    "   variable=[0,0,0]\n",
    "\n",
    "   for i in range(num_intervals):\n",
    "       variable=list(map(str,l[i].split(':')))\n",
    "       list_variable.append(int('9'+variable[0]+variable[1]+variable[2]))\n",
    "        \n",
    "   list_variable.sort()\n",
    "   output_intervals=[] \n",
    "      \n",
    "   for i in range(num_intervals):\n",
    "       variable=str(list_variable[i])[1:]\n",
    "       output_intervals.append((('0'+variable[:-4])[-2:]+':'+('0'+variable[-4:-2])[-2:]+':'+('0'+variable[-2:])[-2:])) \n",
    "    \n",
    "   return output_intervals,num_intervals\n",
    "\n",
    "\n",
    "def counter_original_intervals(input_intervals,output_intervals,output_counter):\n",
    "   l=input_intervals[::2]\n",
    "   j=0\n",
    "   while l[0]!=output_intervals[j]:\n",
    "       j+=1  \n",
    "   input_counter=output_counter[j:]+output_counter[:j] \n",
    "   return  input_counter "
   ]
  },
  {
   "cell_type": "code",
   "execution_count": 4,
   "id": "e6115320-2345-4577-8d1f-c8fe94439c9a",
   "metadata": {},
   "outputs": [],
   "source": [
    "def function_RQ3(input_intervals,df_posts):\n",
    "  output_intervals,num_intervals=intervals_sort(input_intervals)  \n",
    "  \n",
    "  intervals_initial_time=[]\n",
    "  variable=[0,0,0]\n",
    "  \n",
    "    \n",
    "  for i in range(num_intervals):\n",
    "       variable=list(map(str,output_intervals[i].split(':')))       \n",
    "       intervals_initial_time.append(int(variable[0]+variable[1]+variable[2]))\n",
    "   \n",
    "  counter=list(np.zeros(num_intervals,int))\n",
    "  df_posts_local=df_posts.fillna('') \n",
    "  '''\n",
    "  it's usefull to fill the missin value with the string ''\n",
    "  '''\n",
    "  for i in range(len(df_posts_local)):        \n",
    "    date_time=df_posts_local.loc[i][0]\n",
    "    '''\n",
    "    First elemnt of the i-th row of the DataFrame object post_time.\n",
    "    The 'cts' record, so the one stored in post_time, is a string with the structure DATE_TIME , \n",
    "    where '_' it'a a space, I'm interested to the TIME with is write HOUR:MIN:SEC\n",
    "    '''\n",
    "    if date_time!='':\n",
    "        time=((date_time.split())[1]).split(':')\n",
    "        \n",
    "        t_current=int(time[0]+time[1]+time[2][:2])\n",
    "                    \n",
    "        \n",
    "        if (intervals_initial_time[-1]<=t_current) or (t_current<intervals_initial_time[0]):\n",
    "            counter[-1]+=1\n",
    "        else:\n",
    "            j=0\n",
    "            while not(intervals_initial_time[j]<=t_current<intervals_initial_time[j+1]): \n",
    "                j+=1\n",
    "            counter[j]+=1\n",
    "            \n",
    "  input_counter=counter_original_intervals(input_intervals,output_intervals,counter)   \n",
    "  bins=np.linspace(1, num_intervals,num_intervals,dtype=int)\n",
    "  plt.bar(bins,input_counter, width=0.1)\n",
    "  plt.show()\n",
    "  return counter,num_intervals"
   ]
  },
  {
   "cell_type": "markdown",
   "id": "72ea4411-b4cd-4634-b235-484d487e1f42",
   "metadata": {},
   "source": [
    "### RQ3-FIRST QUESTION\n",
    "-What is the most common time in which users publish their posts?-"
   ]
  },
  {
   "cell_type": "code",
   "execution_count": 5,
   "id": "0368b166-fd1d-402f-ad6d-541bfaa4c27e",
   "metadata": {},
   "outputs": [
    {
     "data": {
      "image/png": "[encoded data removed]",
      "text/plain": [
       "<Figure size 432x288 with 1 Axes>"
      ]
     },
     "metadata": {
      "needs_background": "light"
     },
     "output_type": "display_data"
    }
   ],
   "source": [
    "day_hours=[]\n",
    "for i in range(24):\n",
    "    day_hours.append(('0'+str(i))[-2:]+':00:00')\n",
    "    day_hours.append(('0'+str(i))[-2:]+':59:59')\n",
    "'''\n",
    "day_hours is a list of intervals whose time span is one hour, and the intial time of the first interval is 00:00:00\n",
    "'''\n",
    "counter_day_hours,num_intervals_day_hours=function_RQ3(day_hours,df_posts)"
   ]
  },
  {
   "cell_type": "code",
   "execution_count": 6,
   "id": "3ab950e7-162c-4a61-b0a1-45969c20f658",
   "metadata": {},
   "outputs": [
    {
     "name": "stdout",
     "output_type": "stream",
     "text": [
      "The most common time in which users publish their posts is:\n",
      "19:00:00 --> 19:59:59\n"
     ]
    }
   ],
   "source": [
    "index_common_time=2*counter_day_hours.index(max(counter_day_hours))\n",
    "print('The most common time in which users publish their posts is:')\n",
    "print(day_hours[index_common_time],'-->',day_hours[index_common_time+1])"
   ]
  },
  {
   "cell_type": "markdown",
   "id": "1156be75-cb43-4723-bf93-fba20b2c1366",
   "metadata": {},
   "source": [
    "### RQ3-THIRD QUESTION\n",
    "-Use the function that you created in the previous literal to plot the number of posts between the following time intervals:-\n",
    "\n",
    "|Initial time|Final time|\n",
    "|------|------|\n",
    "|06:00:00|10:59:59|\n",
    "|11:00:00|13:59:59|\n",
    "|14:00:00|16:59:59|\n",
    "|17:00:00|19:59:59|\n",
    "|20:00:00|23:59:59|\n",
    "|00:00:00|02:59:59|\n",
    "|03:00:00|05:59:59|\n"
   ]
  },
  {
   "cell_type": "code",
   "execution_count": 5,
   "id": "71e85f44-b4c6-4a18-b983-24a89b08e31b",
   "metadata": {},
   "outputs": [
    {
     "data": {
      "image/png": "[encoded data removed]",
      "text/plain": [
       "<Figure size 432x288 with 1 Axes>"
      ]
     },
     "metadata": {
      "needs_background": "light"
     },
     "output_type": "display_data"
    },
    {
     "name": "stdout",
     "output_type": "stream",
     "text": [
      "[4213617, 3411223, 6378572, 5614715, 6763037, 7409907, 8915794]\n"
     ]
    }
   ],
   "source": [
    "input_intervals=['06:00:00','10:59:59','11:00:00','13:59:59','14:00:00','16:59:59','17:00:00','19:59:59','20:00:00','23:59:59','00:00:00','2:59:59','03:00:00','5:59:59']\n",
    "counter_intervals,num_intervals=function_RQ3(input_intervals,df_posts)\n",
    "print(counter_intervals)"
   ]
  }
 ],
 "metadata": {
  "kernelspec": {
   "display_name": "conda_python3",
   "language": "python",
   "name": "conda_python3"
  },
  "language_info": {
   "codemirror_mode": {
    "name": "ipython",
    "version": 3
   },
   "file_extension": ".py",
   "mimetype": "text/x-python",
   "name": "python",
   "nbconvert_exporter": "python",
   "pygments_lexer": "ipython3",
   "version": "3.8.12"
  }
 },
 "nbformat": 4,
 "nbformat_minor": 5
}
