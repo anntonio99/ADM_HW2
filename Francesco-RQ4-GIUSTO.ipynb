{
 "cells": [
  {
   "cell_type": "markdown",
   "id": "1f1c46ba-7ecb-4331-952d-fba68779eac9",
   "metadata": {},
   "source": [
    "## Research questions 4"
   ]
  },
  {
   "cell_type": "code",
   "execution_count": 2,
   "id": "550c60f6-c0e7-42c7-90ad-2bf963a92ac1",
   "metadata": {},
   "outputs": [],
   "source": [
    "import pandas as pd\n",
    "import numpy as np\n",
    "from numpy import histogram as hist\n",
    "from PIL import Image\n",
    "import matplotlib.pyplot as plt"
   ]
  },
  {
   "cell_type": "code",
   "execution_count": 9,
   "id": "8ed49a40-88c2-4398-aa3f-2352137ab400",
   "metadata": {},
   "outputs": [],
   "source": [
    "df_profiles=pd.read_csv('/home/ec2-user/instagram_profiles.zip', sep='\\t',usecols=['profile_id','n_posts'])"
   ]
  },
  {
   "cell_type": "code",
   "execution_count": 4,
   "id": "730d6651-fb6d-4327-8fc4-601d9ff10f50",
   "metadata": {},
   "outputs": [],
   "source": [
    "df_posts=pd.read_csv('/home/ec2-user/instagram_posts.zip', sep='\\t',usecols=['cts','post_id','profile_id'])"
   ]
  },
  {
   "cell_type": "markdown",
   "id": "41fd684c-69d6-4eff-b3cc-ab54a5c2006f",
   "metadata": {},
   "source": [
    "### RQ4-FIRST QUESTION\n",
    "-Write a function that, given a profile_id, will be able to return the posts that belong to the given profile_id.-\n",
    "\n",
    "the profile_id is assumed to be a float of the form   xxxxxxxxxxx.0   with an arbitrary number of digits x"
   ]
  },
  {
   "cell_type": "code",
   "execution_count": 11,
   "id": "cf953152-49f1-4186-909b-09f93a4fc6c5",
   "metadata": {},
   "outputs": [],
   "source": [
    "def post_of_one_profile(profile_id,post_info):\n",
    "    int_profile_id=int(profile_id)\n",
    "    \n",
    "    df_post_of_one_profile=post_info['post_id'].where(int_profile_id==post_info['profile_id'])\n",
    "    df_post_time_of_one_profile=post_info['cts'].where(int_profile_id==post_info['profile_id'])\n",
    "    \n",
    "    profile_post=list(df_post_of_one_profile.dropna())\n",
    "    list_post_time=list(df_post_time_of_one_profile.dropna())\n",
    "          \n",
    "    return  profile_post ,  list_post_time   "
   ]
  },
  {
   "cell_type": "markdown",
   "id": "a655e424-d4bc-4ea7-9c02-7f737b8629db",
   "metadata": {},
   "source": [
    "### RQ4-SECOND QUESTION\n",
    "-Write another function that, given an input n (an integer), will return the posts that \n",
    "belong to the n top posted profiles (top n profiles that have posted the highest number of posts) \n",
    "that their data is available in the profile.csv using the previously written function.-"
   ]
  },
  {
   "cell_type": "code",
   "execution_count": 19,
   "id": "ad0db058-788b-456e-9b31-7ef3fba784f0",
   "metadata": {},
   "outputs": [],
   "source": [
    "def top_n_profiles(profile_info,n):\n",
    "    \n",
    "    top_n_post_number=list(np.zeros(n,int))\n",
    "    top_n_profile=list(np.zeros(n,int))\n",
    "    counter_nth_profile=0\n",
    "    \n",
    "    for i in range(len(profile_info)):\n",
    "        \n",
    "        current_post_number=profile_info.loc[i][1]\n",
    "        current_profile=profile_info.loc[i][0]\n",
    "        \n",
    "        if current_post_number>top_n_post_number[0]:\n",
    "           j=1\n",
    "           while  j<n  and current_post_number>top_n_post_number[j] :  \n",
    "             j+=1\n",
    "           top_n_post_number.insert(j,current_post_number)\n",
    "           top_n_post_number.pop(0)\n",
    "           top_n_profile.insert(j,current_profile)\n",
    "           top_n_profile.pop(0)\n",
    "           counter_nth_profile=0 \n",
    "        elif current_post_number==top_n_post_number[0]:\n",
    "           counter_nth_profile+=1  \n",
    "    \n",
    "    post_of_top_n=[]\n",
    "    post_time_of_top_n=[]\n",
    "    for i in range(n):\n",
    "        post_of_top_i, post_time_i=post_of_one_profile(top_n_profile[i],df_posts)\n",
    "        post_of_top_n.append(post_of_top_i)\n",
    "        post_time_of_top_n.append(post_time_i)                                               \n",
    "    \n",
    "    top_n_post_number.reverse()\n",
    "    top_n_profile.reverse()\n",
    "    \n",
    "    return  post_of_top_n, top_n_profile , top_n_post_number , post_time_of_top_n , counter_nth_profile"
   ]
  },
  {
   "cell_type": "markdown",
   "id": "9c31a03a-b511-4434-9873-3406c8a54f06",
   "metadata": {},
   "source": [
    "\n",
    "### RQ4-THIRD QUESTION\n",
    "What is the average number of \"likes\" and comments of the top 10 profiles with \n",
    "the highest number of posts which their information is available in profile.csv?\n",
    "\n",
    "###### ANSWER\n",
    "in profile.cvs considering the record of a single generic profile there is no \n",
    "information about the \"likes\" and comments associated with its posts, indeed this information is contained in post.cvs.\n"
   ]
  },
  {
   "cell_type": "code",
   "execution_count": 31,
   "id": "cfb474f7-b122-4937-bc58-ba1178d5b29b",
   "metadata": {},
   "outputs": [
    {
     "data": {
      "image/png": "[encoded data removed]",
      "text/plain": [
       "<Figure size 432x288 with 1 Axes>"
      ]
     },
     "metadata": {
      "needs_background": "light"
     },
     "output_type": "display_data"
    },
    {
     "data": {
      "text/plain": [
       "([33, 81, 113, 35, 44, 28, 22], 7)"
      ]
     },
     "execution_count": 31,
     "metadata": {},
     "output_type": "execute_result"
    }
   ],
   "source": [
    "'''\n",
    "RQ4-FOURTH QUESTION\n",
    "Plot the number of posts that these top 10 profiles have sent on \n",
    "Instagram in the given interval in question RQ3. Interpret the resulting chart\n",
    "'''\n",
    "input_intervals=['06:00:00','10:59:59','11:00:00','13:59:59','14:00:00','16:59:59','17:00:00','19:59:59','20:00:00','23:59:59','00:00:00','2:59:59','03:00:00','5:59:59']\n",
    "\n",
    "post_of_top_10, top_10_profile , top_10_post_number , post_time_of_top_10 , counter_10th_profile=top_n_profiles(df_profile,10)\n",
    "\n",
    "#THE FUNCTION function_RQ3 NEEDS AS INPUT A DATAFRAME\n",
    "post_times_of_top_10=[]\n",
    "for cts in post_time_of_top_10:\n",
    "    post_times_of_top_10+=cts\n",
    "post_times_of_top_10=pd.DataFrame(post_times_of_top_10, columns = ['cts'])\n",
    "\n",
    "counter,num_intervals=function_RQ3(input_intervals,post_times_of_top_10)"
   ]
  },
  {
   "cell_type": "code",
   "execution_count": 2,
   "id": "98e7afbb-a7fa-4a0f-a9a0-11740b055941",
   "metadata": {},
   "outputs": [
    {
     "name": "stdout",
     "output_type": "stream",
     "text": [
      "Top 10 profile:\n",
      "[199664772.0, 8563366588.0, 1273455368.0, 9813508.0, 1607309412.0, 1087613619.0, 1603889832.0, 218172998.0, 285549744.0, 8312603412.0]\n",
      "Number of posts of the top 10 profiles:\n",
      "[183730.0, 142428.0, 126340.0, 125220.0, 117262.0, 117099.0, 113780.0, 113182.0, 112777.0, 112723.0]\n",
      "Total number of post_id returned by top_n_profiles:\n",
      "356\n"
     ]
    }
   ],
   "source": [
    "print('Top 10 profile:')\n",
    "print(top_10_profile)\n",
    "print('Number of posts of the top 10 profiles:')\n",
    "print(top_10_post_number)\n",
    "print('Total number of post_id returned by top_n_profiles:')\n",
    "print(sum(counter))  #counter is the list below the histogram"
   ]
  },
  {
   "cell_type": "markdown",
   "id": "65a63e97-2c48-40f9-892d-97c492f89293",
   "metadata": {},
   "source": [
    "###### COMMENT\n",
    "Considering the total number of posts that the top 10 profiles have posted, returned by 'top_n_profiles', \n",
    "it is much larger than the total number of post_id, related to these posts, found by 'top_n_profiles' \n",
    "using the function 'post_of_one_profile', assuming the correctness of the latter function, this indicates the presence \n",
    "of many missing values in the 'profile_id' record in the posts.cvs file, for this reason the information contained \n",
    "in the above histogram is not significant in relation to the total number of posts of the top 10 profiles.\n"
   ]
  }
 ],
 "metadata": {
  "kernelspec": {
   "display_name": "conda_python3",
   "language": "python",
   "name": "conda_python3"
  },
  "language_info": {
   "codemirror_mode": {
    "name": "ipython",
    "version": 3
   },
   "file_extension": ".py",
   "mimetype": "text/x-python",
   "name": "python",
   "nbconvert_exporter": "python",
   "pygments_lexer": "ipython3",
   "version": "3.8.12"
  }
 },
 "nbformat": 4,
 "nbformat_minor": 5
}
